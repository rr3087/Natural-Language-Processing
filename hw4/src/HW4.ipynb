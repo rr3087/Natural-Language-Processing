{
 "cells": [
  {
   "cell_type": "markdown",
   "metadata": {},
   "source": [
    "### Name: Rahul Rana   \n",
    "### UNI: rr3087   \n",
    "### EMAIL: rr3087@columbia.edu\n",
    "### Assignment: HW4"
   ]
  },
  {
   "cell_type": "code",
   "execution_count": null,
   "metadata": {},
   "outputs": [],
   "source": [
    "### References: https://chunml.github.io/ChunML.github.io/project/Sequence-To-Sequence/"
   ]
  },
  {
   "cell_type": "markdown",
   "metadata": {},
   "source": [
    "# KERAS VERSION = 2.0.8"
   ]
  },
  {
   "cell_type": "markdown",
   "metadata": {},
   "source": [
    "# Sequence to Sequence Modelling"
   ]
  },
  {
   "cell_type": "markdown",
   "metadata": {},
   "source": [
    "**Note**: All code should be in Python3. Keras version should be 2.0.4. The directory structure on the bitbucket repo should be exactly same as the hw4.zip provided to you (with the exception of data directory. Do not upload it). To push the code to remote repo, use the same instructions as given in HW0. **Double check you remote repo for correct directory structure. We won't consider any regrade requests based on wrong directory structure penalty. Again, do not upload data to your bitbucket repo ** <br>\n",
    "**The data provided to you should not be used for any other purpose than this course. You must not distribute it or upload it to any public platform.**"
   ]
  },
  {
   "cell_type": "markdown",
   "metadata": {},
   "source": [
    "![title](seq2seq.png)"
   ]
  },
  {
   "cell_type": "markdown",
   "metadata": {},
   "source": [
    "In this assignment, we are going to solve the problem of summarization using a sequence to sequence model. In a sequence to sequence problem, we have an encoder and a decoder. We feed the sequence of word embeddings to an encoder and train decoder to learn the summaries. We will be seeing 2 types of encoder decoder architectures in this assignment"
   ]
  },
  {
   "cell_type": "markdown",
   "metadata": {},
   "source": [
    "# Preparing Inputs"
   ]
  },
  {
   "cell_type": "markdown",
   "metadata": {},
   "source": [
    "The first part of the assignment is to prepare data. You are given training data in train_article.txt, in which each line is the first sentence from an article, and training summary sentences in train_title.txt, which are the corresponding titles of the article. You will be training the model to predict the title of an article given the first sentence of that article, where title generation is a summarization task. Let us limit the maximum vocabulary size to 20000 and maximum length of article to 200 (These are just initial params to get you started and we recommend experimenting, to improve your scores after you are done with your first implementation)"
   ]
  },
  {
   "cell_type": "code",
   "execution_count": 2,
   "metadata": {},
   "outputs": [],
   "source": [
    "MAX_LEN = 30\n",
    "VOCAB_SIZE = 20000"
   ]
  },
  {
   "cell_type": "markdown",
   "metadata": {},
   "source": [
    "Write a function which takes article file, summary file, maximum length of sentence and vocabulary size and does the following\n",
    "* Create vocabulary: Take most frequent VOCAB_SIZE number of words from article file. Add two special symbols ZERO at start and UNK at end to finally have VOCAB_SIZE + 2 words. Use this array as idx2word. Repeat the process for summary data to create another idx2word corresponding to it. \n",
    "* Using the above idx2word for both article and summary data, create word2idx, which will map every word to its index in idx2word array. \n",
    "* Convert the words in the article and summary data to their corresponding index from word2idx. If a word is not present in the vocab, use the index of UNK. \n",
    "* After the above preprocessing, each sentence in article and summary data should be a list of indices\n",
    "* Now find the max length of a sentence (which is basically number ofs indices in a sentence) in article data. Pad every sentence in article data to that length, so that all sentences are of same length. You may use pad_sequences function provided by keras. Do the same for title data.\n",
    "* return the following outputs transformed article data, vocab size of article data, idx2word(articledata), word2idx(articledata),transformed summary data, vocab size of summary data, idx2word(summarydata), word2idx(summarydata)"
   ]
  },
  {
   "cell_type": "code",
   "execution_count": 3,
   "metadata": {},
   "outputs": [
    {
     "name": "stderr",
     "output_type": "stream",
     "text": [
      "Using TensorFlow backend.\n"
     ]
    }
   ],
   "source": [
    "from collections import Counter\n",
    "import re\n",
    "import itertools\n",
    "import keras\n",
    "from keras.preprocessing.sequence import pad_sequences\n",
    "from keras.preprocessing.text import Tokenizer, text_to_word_sequence\n",
    "from keras.callbacks import Callback, ModelCheckpoint, EarlyStopping\n",
    "from keras.utils import to_categorical\n",
    "from keras.models import Model, Sequential\n",
    "from keras.layers import LSTM, TimeDistributed, RepeatVector, Input, Dense, Activation, Embedding, Bidirectional\n",
    "from keras.layers.core import Reshape\n",
    "from keras.callbacks import Callback, ModelCheckpoint, EarlyStopping, TensorBoard\n",
    "import numpy as np\n",
    "import operator"
   ]
  },
  {
   "cell_type": "code",
   "execution_count": 4,
   "metadata": {},
   "outputs": [],
   "source": [
    "\n",
    "def load_data(article, summary, max_len, vocab_size):\n",
    "   \n",
    "    t1 = Tokenizer(num_words=20000)\n",
    "    t1.fit_on_texts(article)\n",
    "    article_words = sorted(t1.word_index.items(), key=operator.itemgetter(1))[0:vocab_size]\n",
    "    id2w_ad = ['ZERO'] + [i[0] for i in article_words]\n",
    "       \n",
    "    t_ad = []\n",
    "    for sentence in article:\n",
    "        sentence_words = text_to_word_sequence(sentence)\n",
    "        sentence_words_idxs = [id2w_ad.index(word) if word in id2w_ad else id2w_ad.index('unk') for word in sentence_words]\n",
    "        t_ad.append(sentence_words_idxs)\n",
    "    \n",
    "    max_len_ad = max(len(i) for i in t_ad)\n",
    "    \n",
    "    w2id_ad = list(range(0, len(id2w_ad)))\n",
    "    \n",
    "    vs_ad = len(id2w_ad)\n",
    "\n",
    "    t2 = Tokenizer(num_words=20000)\n",
    "    t2.fit_on_texts(summary)\n",
    "    summary_words = sorted(t2.word_index.items(), key=operator.itemgetter(1))[0:vocab_size]\n",
    "    id2w_sd = ['ZERO'] + [i[0] for i in summary_words]\n",
    "    \n",
    "    t_sd = []\n",
    "    for sentence in summary:\n",
    "        sentence_words = text_to_word_sequence(sentence)\n",
    "        sentence_word_idxs = [id2w_sd.index(word) if word in id2w_sd else id2w_sd.index('unk') for word in sentence_words]\n",
    "        t_sd.append(sentence_word_idxs) \n",
    "    \n",
    "    max_len_sd = max(len(i) for i in t_sd)\n",
    "    \n",
    "    max_len_pad = max(max_len_ad, max_len_sd)\n",
    "    \n",
    "    t_ad = pad_sequences(t_ad, maxlen=max_len, truncating='post', padding='post')\n",
    "    t_sd = pad_sequences(t_sd, maxlen=max_len, truncating='post', padding='post')\n",
    "    \n",
    "    w2id_sd = list(range(0, len(id2w_sd)))\n",
    "    \n",
    "    vs_sd = len(id2w_sd)\n",
    "    \n",
    "    \n",
    "    return t_ad, vs_ad, id2w_ad, w2id_ad, t_sd, vs_sd, id2w_sd, w2id_sd\n",
    "#complete this function using details as above"
   ]
  },
  {
   "cell_type": "markdown",
   "metadata": {},
   "source": [
    "Now use the above function to load the training data from article and summary (i.e. title) files. Do note that, based on your model architecture, you may need to further one-hot vectorize your input to the model"
   ]
  },
  {
   "cell_type": "code",
   "execution_count": 5,
   "metadata": {},
   "outputs": [],
   "source": [
    "# TO-DO\n",
    "### loading the training data\n",
    "\n",
    "with open ('data/train_article.txt') as f:\n",
    "    tr_article = f.read().splitlines()\n",
    "    \n",
    "with open ('data/train_title.txt') as f:\n",
    "    tr_summary = f.read().splitlines()\n",
    "    \n",
    "t_ad, vs_ad, id2w_ad, w2id_ad, t_sd, vs_sd, id2w_sd, w2id_sd = load_data(tr_article, tr_summary, MAX_LEN, VOCAB_SIZE)           "
   ]
  },
  {
   "cell_type": "code",
   "execution_count": 6,
   "metadata": {},
   "outputs": [],
   "source": [
    "def generator(features, labels, batch_size):\n",
    "    batch_features = np.zeros((batch_size, 30)) \n",
    "    batch_labels = np.zeros((batch_size, 30, 20001))\n",
    "    while True:\n",
    "        for i in range(batch_size):\n",
    "            index = np.random.choice(len(features), 1)[0]\n",
    "#             batch_features[i] = to_categorical(features[index], num_classes=20002) ## one-hot encoding for use without embedding layer\n",
    "            batch_features[i] = features[index] ## sequences for use with embedding layer\n",
    "            batch_labels[i] = to_categorical(labels[index], num_classes=20001)\n",
    "        yield batch_features, batch_labels"
   ]
  },
  {
   "cell_type": "markdown",
   "metadata": {},
   "source": [
    "# Unidirectional LSTM Encoder Decoder "
   ]
  },
  {
   "cell_type": "markdown",
   "metadata": {},
   "source": [
    "Define the parameters for your LSTM encoder decoder model. "
   ]
  },
  {
   "cell_type": "code",
   "execution_count": 7,
   "metadata": {},
   "outputs": [],
   "source": [
    "BATCH_SIZE = 200\n",
    "NUM_LAYERS = 2 ## no. of LSTMs in encoder and decoder\n",
    "HIDDEN_DIM = 256 ### 200-400 & 100-300 for with attention\n",
    "EPOCHS = 120"
   ]
  },
  {
   "cell_type": "markdown",
   "metadata": {},
   "source": [
    "Create a Unidirectional encoder decoder LSTM model in create_model function. The model should have a LSTM Unidirectional layer as encoder and a LSTM decoder.\n",
    "Use categorical_cross_entropy loss and experiment with different optimizers to improve your score."
   ]
  },
  {
   "cell_type": "code",
   "execution_count": 8,
   "metadata": {},
   "outputs": [],
   "source": [
    "\n",
    "def create_UniLSTM(X_vocab_len, X_max_len, y_vocab_len, y_max_len, hidden_size, num_layers):\n",
    "    # TO-DO\n",
    "    # create and return the model for unidirectional LSTM encoder decoder\n",
    "    model = Sequential()\n",
    "#     model.add(Embedding(X_vocab_len, 1000, input_length=X_max_len)) 93% val_acc\n",
    "    model.add(Embedding(X_vocab_len, 300, input_length=X_max_len, mask_zero=True)) ## 96% with both on and 2 LSTM decoders\n",
    "    model.add(Bidirectional(LSTM(hidden_size, activation='tanh')))\n",
    "\n",
    "    model.add(RepeatVector(y_max_len)) ## repeat vector is what is separating the encoder from the decoder\n",
    "    \n",
    "    model.add(LSTM(hidden_size, return_sequences=True, activation='tanh'))\n",
    "    model.add(LSTM(hidden_size, return_sequences=True, activation='tanh'))\n",
    "    model.add(TimeDistributed(Dense(y_vocab_len, activation='softmax'))) ### time-distributed is supposed to be used, since it captures over each time-step\n",
    "    \n",
    "    model.compile(optimizer='rmsprop',\n",
    "                 loss='categorical_crossentropy',\n",
    "                 metrics=['accuracy'])\n",
    "    \n",
    "    \n",
    "    return model"
   ]
  },
  {
   "cell_type": "markdown",
   "metadata": {},
   "source": [
    "# Train the Model"
   ]
  },
  {
   "cell_type": "markdown",
   "metadata": {},
   "source": [
    "Now that we have everything in place, we can run our model. We recommend training the model in batches instead of training on all 50,000 article-title pairs at once, if you encounter memory contraints"
   ]
  },
  {
   "cell_type": "code",
   "execution_count": 9,
   "metadata": {
    "scrolled": false
   },
   "outputs": [],
   "source": [
    "# TO-DO\n",
    "### loading the test data\n",
    "\n",
    "with open('data/test_article.txt') as f:\n",
    "    te_article = f.read().splitlines()\n",
    "\n",
    "t_ad_test_unpad = []\n",
    "for sentence in te_article:\n",
    "    sentence_words = text_to_word_sequence(sentence)\n",
    "    sentence_words_idxs = [id2w_ad.index(word) if word in id2w_ad else id2w_ad.index('unk') for word in sentence_words]\n",
    "    t_ad_test_unpad.append(sentence_words_idxs)\n",
    "t_ad_test = pad_sequences(t_ad_test_unpad, maxlen=MAX_LEN, truncating='post', padding='post')\n",
    "     \n",
    "with open('data/test_title.txt') as f:\n",
    "    te_summary = f.read().splitlines()\n",
    "\n",
    "t_sd_test_unpad = []\n",
    "t_sd_test_rouge = []\n",
    "for sentence in te_summary:\n",
    "    sentence_words = text_to_word_sequence(sentence)\n",
    "    t_sd_test_rouge.append(sentence_words)\n",
    "    sentence_words_idxs = [id2w_sd.index(word) if word in id2w_sd else id2w_sd.index('unk') for word in sentence_words]\n",
    "    t_sd_test_unpad.append(sentence_words_idxs)\n",
    "t_sd_test = pad_sequences(t_sd_test_unpad, maxlen=MAX_LEN, truncating='post', padding='post')\n",
    "        "
   ]
  },
  {
   "cell_type": "code",
   "execution_count": 28,
   "metadata": {
    "scrolled": true
   },
   "outputs": [
    {
     "name": "stdout",
     "output_type": "stream",
     "text": [
      "_________________________________________________________________\n",
      "Layer (type)                 Output Shape              Param #   \n",
      "=================================================================\n",
      "embedding_2 (Embedding)      (None, 30, 300)           6000300   \n",
      "_________________________________________________________________\n",
      "bidirectional_2 (Bidirection (None, 512)               1140736   \n",
      "_________________________________________________________________\n",
      "repeat_vector_2 (RepeatVecto (None, 30, 512)           0         \n",
      "_________________________________________________________________\n",
      "lstm_5 (LSTM)                (None, 30, 256)           787456    \n",
      "_________________________________________________________________\n",
      "lstm_6 (LSTM)                (None, 30, 256)           525312    \n",
      "_________________________________________________________________\n",
      "time_distributed_2 (TimeDist (None, 30, 20001)         5140257   \n",
      "=================================================================\n",
      "Total params: 13,594,061\n",
      "Trainable params: 13,594,061\n",
      "Non-trainable params: 0\n",
      "_________________________________________________________________\n"
     ]
    }
   ],
   "source": [
    "model_nat = create_UniLSTM(20001, MAX_LEN, 20001, MAX_LEN, HIDDEN_DIM, 2)\n",
    "\n",
    "model_nat.summary()"
   ]
  },
  {
   "cell_type": "code",
   "execution_count": null,
   "metadata": {
    "scrolled": false
   },
   "outputs": [
    {
     "name": "stdout",
     "output_type": "stream",
     "text": [
      "Epoch 1/120\n",
      "250/250 [==============================] - 412s - loss: 2.2515 - acc: 0.7555   \n",
      "Epoch 2/120\n",
      "250/250 [==============================] - 447s - loss: 1.9973 - acc: 0.7604   \n",
      "Epoch 3/120\n",
      "250/250 [==============================] - 420s - loss: 1.9785 - acc: 0.7611   \n",
      "Epoch 4/120\n",
      "250/250 [==============================] - 358s - loss: 1.9657 - acc: 0.7619   \n",
      "Epoch 5/120\n",
      "250/250 [==============================] - 376s - loss: 1.9572 - acc: 0.7625   \n",
      "Epoch 6/120\n",
      "250/250 [==============================] - 352s - loss: 1.9528 - acc: 0.7625   \n",
      "Epoch 7/120\n",
      "250/250 [==============================] - 402s - loss: 1.9419 - acc: 0.7634   \n",
      "Epoch 8/120\n",
      "250/250 [==============================] - 371s - loss: 1.9364 - acc: 0.7638   \n",
      "Epoch 9/120\n",
      "250/250 [==============================] - 377s - loss: 1.9372 - acc: 0.7634   \n",
      "Epoch 10/120\n",
      "250/250 [==============================] - 379s - loss: 1.9245 - acc: 0.7645   \n",
      "Epoch 11/120\n",
      "250/250 [==============================] - 375s - loss: 1.9269 - acc: 0.7640   \n",
      "Epoch 12/120\n",
      "250/250 [==============================] - 381s - loss: 1.9191 - acc: 0.7647   \n",
      "Epoch 13/120\n",
      "250/250 [==============================] - 397s - loss: 1.9137 - acc: 0.7647   \n",
      "Epoch 14/120\n",
      "250/250 [==============================] - 378s - loss: 1.9188 - acc: 0.7644   \n",
      "Epoch 15/120\n",
      "250/250 [==============================] - 404s - loss: 1.9131 - acc: 0.7643   \n",
      "Epoch 16/120\n",
      "250/250 [==============================] - 375s - loss: 1.8929 - acc: 0.7657   \n",
      "Epoch 17/120\n",
      "250/250 [==============================] - 354s - loss: 1.8666 - acc: 0.7670   \n",
      "Epoch 24/120\n",
      "250/250 [==============================] - 375s - loss: 1.8680 - acc: 0.7670   \n",
      "Epoch 25/120\n",
      "250/250 [==============================] - 343s - loss: 1.8534 - acc: 0.7674   \n",
      "Epoch 26/120\n",
      "250/250 [==============================] - 356s - loss: 1.8451 - acc: 0.7683   \n",
      "Epoch 27/120\n",
      "250/250 [==============================] - 356s - loss: 1.8602 - acc: 0.7674   \n",
      "Epoch 28/120\n",
      "250/250 [==============================] - 377s - loss: 1.8519 - acc: 0.7684   \n",
      "Epoch 29/120\n",
      "250/250 [==============================] - 359s - loss: 1.8426 - acc: 0.7682   \n",
      "Epoch 30/120\n",
      "250/250 [==============================] - 344s - loss: 1.8236 - acc: 0.7690   \n",
      "Epoch 31/120\n",
      "250/250 [==============================] - 359s - loss: 1.8217 - acc: 0.7700   \n",
      "Epoch 32/120\n",
      "250/250 [==============================] - 350s - loss: 1.8262 - acc: 0.7696   \n",
      "Epoch 33/120\n",
      "250/250 [==============================] - 348s - loss: 1.8265 - acc: 0.7690   \n",
      "Epoch 34/120\n",
      "250/250 [==============================] - 385s - loss: 1.8405 - acc: 0.7687   \n",
      "Epoch 35/120\n",
      "250/250 [==============================] - 359s - loss: 1.8230 - acc: 0.7697   \n",
      "Epoch 36/120\n",
      "250/250 [==============================] - 343s - loss: 1.8241 - acc: 0.7697   \n",
      "Epoch 37/120\n",
      "250/250 [==============================] - 346s - loss: 1.8220 - acc: 0.7694   \n",
      "Epoch 38/120\n",
      "250/250 [==============================] - 360s - loss: 1.8248 - acc: 0.7694   \n",
      "Epoch 39/120\n",
      "250/250 [==============================] - 360s - loss: 1.8185 - acc: 0.7699   \n",
      "Epoch 40/120\n",
      "250/250 [==============================] - 352s - loss: 1.8245 - acc: 0.7695   \n",
      "Epoch 41/120\n",
      "250/250 [==============================] - 355s - loss: 1.8056 - acc: 0.7706   \n",
      "Epoch 42/120\n",
      "250/250 [==============================] - 352s - loss: 1.8163 - acc: 0.7698   \n",
      "Epoch 43/120\n",
      "250/250 [==============================] - 347s - loss: 1.7945 - acc: 0.7716   \n",
      "Epoch 44/120\n",
      "250/250 [==============================] - 339s - loss: 1.7841 - acc: 0.7716   \n",
      "Epoch 45/120\n",
      "250/250 [==============================] - 371s - loss: 1.8194 - acc: 0.7698   \n",
      "Epoch 46/120\n",
      "250/250 [==============================] - 365s - loss: 1.8091 - acc: 0.7704   \n",
      "Epoch 47/120\n",
      "250/250 [==============================] - 346s - loss: 1.8039 - acc: 0.7713   \n",
      "Epoch 48/120\n",
      "250/250 [==============================] - 333s - loss: 1.7990 - acc: 0.7710   \n",
      "Epoch 49/120\n",
      "250/250 [==============================] - 335s - loss: 1.7989 - acc: 0.7720   \n",
      "Epoch 50/120\n",
      "250/250 [==============================] - 343s - loss: 1.7885 - acc: 0.7722   \n",
      "Epoch 51/120\n",
      "250/250 [==============================] - 342s - loss: 1.7932 - acc: 0.7717   \n",
      "Epoch 52/120\n",
      "250/250 [==============================] - 344s - loss: 1.7961 - acc: 0.7714   \n",
      "Epoch 53/120\n",
      "250/250 [==============================] - 334s - loss: 1.7981 - acc: 0.7718   \n",
      "Epoch 54/120\n",
      "250/250 [==============================] - 342s - loss: 1.7838 - acc: 0.7725   \n",
      "Epoch 55/120\n",
      "250/250 [==============================] - 331s - loss: 1.7703 - acc: 0.7731   \n",
      "Epoch 56/120\n",
      "250/250 [==============================] - 338s - loss: 1.7745 - acc: 0.7727   \n",
      "Epoch 57/120\n",
      "250/250 [==============================] - 329s - loss: 1.7625 - acc: 0.7739   \n",
      "Epoch 58/120\n",
      "250/250 [==============================] - 342s - loss: 1.7812 - acc: 0.7729   \n",
      "Epoch 59/120\n",
      "250/250 [==============================] - 337s - loss: 1.7852 - acc: 0.7730   \n",
      "Epoch 60/120\n",
      "250/250 [==============================] - 345s - loss: 1.7887 - acc: 0.7728   \n",
      "Epoch 61/120\n",
      "250/250 [==============================] - 333s - loss: 1.7890 - acc: 0.7724   \n",
      "Epoch 62/120\n",
      "250/250 [==============================] - 345s - loss: 1.7600 - acc: 0.7744   \n",
      "Epoch 63/120\n",
      "250/250 [==============================] - 348s - loss: 1.7584 - acc: 0.7742   \n",
      "Epoch 64/120\n",
      "250/250 [==============================] - 371s - loss: 1.7524 - acc: 0.7747   \n",
      "Epoch 65/120\n",
      "250/250 [==============================] - 359s - loss: 1.7512 - acc: 0.7754   \n",
      "Epoch 66/120\n",
      "250/250 [==============================] - 370s - loss: 1.7763 - acc: 0.7740   \n",
      "Epoch 67/120\n",
      "250/250 [==============================] - 349s - loss: 1.7623 - acc: 0.7742   \n",
      "Epoch 68/120\n",
      "250/250 [==============================] - 348s - loss: 1.7587 - acc: 0.7751   \n",
      "Epoch 69/120\n",
      "250/250 [==============================] - 365s - loss: 1.7676 - acc: 0.7750   \n",
      "Epoch 70/120\n",
      "250/250 [==============================] - 363s - loss: 1.7296 - acc: 0.7770   \n",
      "Epoch 71/120\n",
      "250/250 [==============================] - 364s - loss: 1.7445 - acc: 0.7765   \n",
      "Epoch 72/120\n",
      "250/250 [==============================] - 375s - loss: 1.7781 - acc: 0.7743   \n",
      "Epoch 73/120\n",
      "250/250 [==============================] - 342s - loss: 1.7491 - acc: 0.7762   \n",
      "Epoch 74/120\n",
      "250/250 [==============================] - 349s - loss: 1.7365 - acc: 0.7764   \n",
      "Epoch 75/120\n",
      "250/250 [==============================] - 370s - loss: 1.7376 - acc: 0.7772   \n",
      "Epoch 76/120\n",
      "250/250 [==============================] - 346s - loss: 1.7689 - acc: 0.7748   \n",
      "Epoch 77/120\n",
      "250/250 [==============================] - 322s - loss: 1.7806 - acc: 0.7750   \n",
      "Epoch 78/120\n",
      "250/250 [==============================] - 343s - loss: 1.7489 - acc: 0.7765   \n",
      "Epoch 79/120\n",
      "250/250 [==============================] - 356s - loss: 1.6832 - acc: 0.7812   \n",
      "Epoch 80/120\n",
      "250/250 [==============================] - 330s - loss: 1.6338 - acc: 0.7849   \n",
      "Epoch 81/120\n",
      "250/250 [==============================] - 336s - loss: 1.6514 - acc: 0.7837   \n",
      "Epoch 82/120\n",
      "250/250 [==============================] - 296s - loss: 1.5614 - acc: 0.7900   \n",
      "Epoch 83/120\n",
      "250/250 [==============================] - 336s - loss: 1.6396 - acc: 0.7848   \n",
      "Epoch 84/120\n",
      "250/250 [==============================] - 321s - loss: 1.6262 - acc: 0.7857   \n",
      "Epoch 85/120\n",
      "250/250 [==============================] - 320s - loss: 1.6133 - acc: 0.7872   \n",
      "Epoch 86/120\n",
      "250/250 [==============================] - 380s - loss: 1.7086 - acc: 0.7811   \n",
      "Epoch 87/120\n",
      "250/250 [==============================] - 403s - loss: 1.7408 - acc: 0.7787   \n",
      "Epoch 88/120\n",
      "250/250 [==============================] - 366s - loss: 1.6740 - acc: 0.7829   \n",
      "Epoch 89/120\n",
      "250/250 [==============================] - 408s - loss: 1.7394 - acc: 0.7795   \n",
      "Epoch 90/120\n",
      "250/250 [==============================] - 431s - loss: 1.7674 - acc: 0.7768   \n",
      "Epoch 91/120\n",
      "250/250 [==============================] - 385s - loss: 1.6979 - acc: 0.7816   \n",
      "Epoch 92/120\n",
      "250/250 [==============================] - 401s - loss: 1.7330 - acc: 0.7795   \n",
      "Epoch 93/120\n",
      "250/250 [==============================] - 451s - loss: 1.8022 - acc: 0.7744   \n",
      "Epoch 94/120\n",
      "250/250 [==============================] - 472s - loss: 1.8328 - acc: 0.7722   \n",
      "Epoch 95/120\n",
      "250/250 [==============================] - 491s - loss: 1.8527 - acc: 0.7709   \n",
      "Epoch 96/120\n",
      "250/250 [==============================] - 519s - loss: 1.8700 - acc: 0.7695   \n",
      "Epoch 97/120\n",
      "250/250 [==============================] - 520s - loss: 1.8696 - acc: 0.7693   \n",
      "Epoch 98/120\n",
      "250/250 [==============================] - 514s - loss: 1.8823 - acc: 0.7682   \n",
      "Epoch 99/120\n",
      "250/250 [==============================] - 528s - loss: 1.9009 - acc: 0.7668   \n",
      "Epoch 100/120\n",
      "250/250 [==============================] - 569s - loss: 1.9185 - acc: 0.7660   \n",
      "Epoch 101/120\n",
      "250/250 [==============================] - 560s - loss: 1.9274 - acc: 0.7641   \n",
      "Epoch 102/120\n",
      "250/250 [==============================] - 560s - loss: 1.9179 - acc: 0.7651   \n",
      "Epoch 103/120\n",
      "250/250 [==============================] - 627s - loss: 1.9219 - acc: 0.7650   \n",
      "Epoch 104/120\n",
      "250/250 [==============================] - 669s - loss: 1.9252 - acc: 0.7649   \n",
      "Epoch 105/120\n",
      "250/250 [==============================] - 598s - loss: 1.9467 - acc: 0.7631   \n",
      "Epoch 106/120\n",
      "250/250 [==============================] - 1150s - loss: 1.9547 - acc: 0.7626  \n",
      "Epoch 107/120\n",
      "250/250 [==============================] - 543s - loss: 1.6784 - acc: 0.7814   \n",
      "Epoch 108/120\n",
      "250/250 [==============================] - 284s - loss: 1.5439 - acc: 0.7913   \n",
      "Epoch 109/120\n",
      "250/250 [==============================] - 242s - loss: 1.4758 - acc: 0.7981   \n",
      "Epoch 110/120\n",
      "250/250 [==============================] - 271s - loss: 1.4620 - acc: 0.7995   \n",
      "Epoch 111/120\n",
      "250/250 [==============================] - 281s - loss: 1.3708 - acc: 0.8072   \n",
      "Epoch 112/120\n",
      "250/250 [==============================] - 212s - loss: 1.2855 - acc: 0.8152   \n",
      "Epoch 113/120\n",
      "250/250 [==============================] - 276s - loss: 1.3906 - acc: 0.8089   \n",
      "Epoch 114/120\n",
      "250/250 [==============================] - 215s - loss: 1.2533 - acc: 0.8198   \n",
      "Epoch 115/120\n",
      "250/250 [==============================] - 194s - loss: 1.1647 - acc: 0.8282   \n",
      "Epoch 116/120\n",
      "250/250 [==============================] - 226s - loss: 1.2416 - acc: 0.8239   \n",
      "Epoch 117/120\n",
      "250/250 [==============================] - 215s - loss: 1.1142 - acc: 0.8350   \n",
      "Epoch 118/120\n",
      "250/250 [==============================] - 184s - loss: 1.1091 - acc: 0.8370   \n",
      "Epoch 119/120\n",
      "250/250 [==============================] - 193s - loss: 1.0600 - acc: 0.8423   \n",
      "Epoch 120/120\n",
      "250/250 [==============================] - 200s - loss: 1.0793 - acc: 0.8424   \n"
     ]
    },
    {
     "data": {
      "text/plain": [
       "<keras.callbacks.History at 0x7f17bbc5c590>"
      ]
     },
     "execution_count": 11,
     "metadata": {},
     "output_type": "execute_result"
    }
   ],
   "source": [
    "### USING BIDIRECTIONAL LSTM\n",
    "wt_dir = \"weights/\"\n",
    "model_name = 'model_best_nat'\n",
    "# early_stopping =EarlyStopping(monitor='loss', patience=10)\n",
    "bst_model_path = wt_dir + model_name + '.h5'\n",
    "model_checkpoint = ModelCheckpoint(bst_model_path, monitor='loss', save_best_only=True, save_weights_only=True)\n",
    "# tensorboard = TensorBoard(log_dir = 'logs/', histogram_freq=0, batch_size=200)\n",
    "\n",
    "## not validating on the test set since I am monitoring the training loss.\n",
    "\n",
    "model_nat.fit_generator(generator(t_ad, t_sd, batch_size=200),\n",
    "                    steps_per_epoch = len(t_ad)/200,\n",
    "#                     steps_per_epoch=1,\n",
    "                    epochs=120,\n",
    "#                     validation_data = generator(t_ad_test, t_sd_test, batch_size=200),\n",
    "#                     validation_steps = len(t_ad_test)/200,\n",
    "#                     validation_steps=1,\n",
    "                    verbose=1,\n",
    "                    callbacks = [model_checkpoint]\n",
    "                    )"
   ]
  },
  {
   "cell_type": "code",
   "execution_count": 81,
   "metadata": {},
   "outputs": [],
   "source": [
    "model_nat.load_weights('weights/model_best_nat.h5')\n",
    "\n",
    "pred_total_nat = model_nat.predict(t_ad_test)\n",
    "pred_idx_total_nat = np.argmax(pred_total_nat, axis=2)\n",
    "pred_idx_total_nat = [filter(lambda i: i!=0, ix) for ix in pred_idx_total_nat]\n",
    "\n",
    "ref_sent_nat = [' '.join(t_sd_test_rouge[i]) for i in range(len(t_sd_test))]\n",
    "hypo_sent_nat = [' '.join(np.array(id2w_sd)[pred_idx_total_nat[i]]) for i in range(len(t_sd_test))]"
   ]
  },
  {
   "cell_type": "markdown",
   "metadata": {},
   "source": [
    "# Evaluation using Rouge score "
   ]
  },
  {
   "cell_type": "markdown",
   "metadata": {},
   "source": [
    "Now that you have trained the model, load the test data i.e. test_article.txt and corresponding reference titles test_title.txt. Process test_article.txt in the same way as you did your train_article.txt. Then use your model to predict the titles.\n",
    "When you have your model predicted titles, and the reference titles (test_title.txt) calculate the Rouge score corresponding to your predictions. <br>\n",
    "You should install rouge by executing \"pip3 install rouge\". Refer https://pypi.python.org/pypi/rouge/0.2.1 for documentation on how to use the package."
   ]
  },
  {
   "cell_type": "code",
   "execution_count": 26,
   "metadata": {},
   "outputs": [
    {
     "data": {
      "text/plain": [
       "{'rouge-1': {'f': 0.18706348270852552,\n",
       "  'p': 0.17149708017791832,\n",
       "  'r': 0.22246877447948876},\n",
       " 'rouge-2': {'f': 0.065401080192244734,\n",
       "  'p': 0.064993846827775398,\n",
       "  'r': 0.067892857142857144},\n",
       " 'rouge-l': {'f': 0.16126738812887426,\n",
       "  'p': 0.16647388616837974,\n",
       "  'r': 0.1743566762602477}}"
      ]
     },
     "execution_count": 26,
     "metadata": {},
     "output_type": "execute_result"
    }
   ],
   "source": [
    "################################ BEST MODEL\n",
    "from rouge import Rouge\n",
    "rouge = Rouge()\n",
    "\n",
    "hyps, refs = map(list, zip(*[[ref_sent_nat[i], hypo_sent_nat[i]] for i in range(len(t_sd_test))])) ### rouge for multiple values\n",
    "                     \n",
    "rouge.get_scores(hyps, refs, avg=True)"
   ]
  },
  {
   "cell_type": "markdown",
   "metadata": {},
   "source": [
    "# Tensorboard Visualization "
   ]
  },
  {
   "cell_type": "markdown",
   "metadata": {},
   "source": [
    "We recommended training the data in batches because of our tensor constraints. This also presents us with a challenge of visualizing loss function and accuracy change with each epoch. Keras has an inbuilt function called fit_generator which takes in a generator function and gives the required batch for training. Use this Function to load data in batches of 100 for 200 steps_per_epoch. Run the training for 10 epochs. Use Keras callbacks to send data to tensorboad (you can look this up online). \n",
    "\n",
    "Once your training is done. Go to command line and run tensorboard. By default Tensorboard opens on 6006 port. Do remember to allow traffic on the same for gcloud (like you did for previous assignment). You can see various metrics depending on what you want to track like loss, accuracy, validation loss and validation accuracy over epochs. Attach the plots of loss and accuracy from the tensorboard display in the notebook"
   ]
  },
  {
   "cell_type": "code",
   "execution_count": null,
   "metadata": {},
   "outputs": [],
   "source": [
    "# TO-DO\n",
    "#  ![title](images/acc_20k.JPG)"
   ]
  },
  {
   "cell_type": "markdown",
   "metadata": {},
   "source": [
    "![title](images/acc_20k.JPG)"
   ]
  },
  {
   "cell_type": "markdown",
   "metadata": {},
   "source": [
    "![title](images/loss_20k.JPG)"
   ]
  },
  {
   "cell_type": "code",
   "execution_count": 10,
   "metadata": {},
   "outputs": [
    {
     "name": "stdout",
     "output_type": "stream",
     "text": [
      "_________________________________________________________________\n",
      "Layer (type)                 Output Shape              Param #   \n",
      "=================================================================\n",
      "embedding_1 (Embedding)      (None, 30, 300)           6000300   \n",
      "_________________________________________________________________\n",
      "bidirectional_1 (Bidirection (None, 512)               1140736   \n",
      "_________________________________________________________________\n",
      "repeat_vector_1 (RepeatVecto (None, 30, 512)           0         \n",
      "_________________________________________________________________\n",
      "lstm_2 (LSTM)                (None, 30, 256)           787456    \n",
      "_________________________________________________________________\n",
      "lstm_3 (LSTM)                (None, 30, 256)           525312    \n",
      "_________________________________________________________________\n",
      "time_distributed_1 (TimeDist (None, 30, 20001)         5140257   \n",
      "=================================================================\n",
      "Total params: 13,594,061\n",
      "Trainable params: 13,594,061\n",
      "Non-trainable params: 0\n",
      "_________________________________________________________________\n"
     ]
    }
   ],
   "source": [
    "model_tb = create_UniLSTM(20001, MAX_LEN, 20001, MAX_LEN, HIDDEN_DIM, 2)\n",
    "\n",
    "model_tb.summary()"
   ]
  },
  {
   "cell_type": "code",
   "execution_count": 11,
   "metadata": {},
   "outputs": [],
   "source": [
    "### taking the 1st 20,000 samples for tensorboard visualization\n",
    "t_ad_tb = t_ad[0:20000]\n",
    "t_sd_tb = t_sd[0:20000]"
   ]
  },
  {
   "cell_type": "code",
   "execution_count": 13,
   "metadata": {},
   "outputs": [
    {
     "name": "stdout",
     "output_type": "stream",
     "text": [
      "Epoch 1/10\n",
      "200/200 [==============================] - 226s - loss: 2.3687 - acc: 0.7516   \n",
      "Epoch 2/10\n",
      "200/200 [==============================] - 260s - loss: 2.0553 - acc: 0.7581   \n",
      "Epoch 3/10\n",
      "200/200 [==============================] - 276s - loss: 2.0278 - acc: 0.7592   \n",
      "Epoch 4/10\n",
      "200/200 [==============================] - 297s - loss: 2.0232 - acc: 0.7582   \n",
      "Epoch 5/10\n",
      "200/200 [==============================] - 257s - loss: 2.0113 - acc: 0.7579   \n",
      "Epoch 6/10\n",
      "200/200 [==============================] - 251s - loss: 1.9971 - acc: 0.7591   \n",
      "Epoch 7/10\n",
      "200/200 [==============================] - 239s - loss: 1.9966 - acc: 0.7583   \n",
      "Epoch 8/10\n",
      "200/200 [==============================] - 242s - loss: 1.9827 - acc: 0.7594   \n",
      "Epoch 9/10\n",
      "200/200 [==============================] - 240s - loss: 1.9890 - acc: 0.7582   \n",
      "Epoch 10/10\n",
      "200/200 [==============================] - 458s - loss: 2.0117 - acc: 0.7576   \n"
     ]
    },
    {
     "data": {
      "text/plain": [
       "<keras.callbacks.History at 0x7f169c927e10>"
      ]
     },
     "execution_count": 13,
     "metadata": {},
     "output_type": "execute_result"
    }
   ],
   "source": [
    "\n",
    "# model_checkpoint = ModelCheckpoint(bst_model_path, monitor='loss', save_best_only=True, save_weights_only=True)\n",
    "tensorboard = TensorBoard(log_dir = 'logs/', histogram_freq=0, batch_size=200)\n",
    "### tensorboard for 10 epochs\n",
    "\n",
    "## not validating on the test set since I am monitoring the training loss.\n",
    "\n",
    "model_tb.fit_generator(generator(t_ad_tb, t_sd_tb, batch_size=100),\n",
    "                    steps_per_epoch = len(t_ad_tb)/100, ### 200 steps_per_epoch\n",
    "#                     steps_per_epoch=1,\n",
    "                    epochs=10,\n",
    "#                     validation_data = generator(t_ad_test, t_sd_test, batch_size=200),\n",
    "#                     validation_steps = len(t_ad_test)/200,\n",
    "#                     validation_steps=1,\n",
    "                    verbose=1,\n",
    "                    callbacks = [tensorboard]\n",
    "                    )"
   ]
  },
  {
   "cell_type": "markdown",
   "metadata": {},
   "source": [
    "# Unidirectional LSTM Encoder Decoder With Attention "
   ]
  },
  {
   "cell_type": "markdown",
   "metadata": {},
   "source": [
    "Define the parameters for your LSTM encoder decoder model with attention"
   ]
  },
  {
   "cell_type": "code",
   "execution_count": 14,
   "metadata": {},
   "outputs": [],
   "source": [
    "MAX_LEN_AT = 30\n",
    "VOCAB_SIZE_AT = 10000"
   ]
  },
  {
   "cell_type": "code",
   "execution_count": 15,
   "metadata": {},
   "outputs": [],
   "source": [
    "BATCH_SIZE_AT = 400\n",
    "NUM_LAYERS_AT = 2\n",
    "HIDDEN_DIM_AT = 128\n",
    "EPOCHS_AT = 100"
   ]
  },
  {
   "cell_type": "markdown",
   "metadata": {},
   "source": [
    "You would've observed that the summaries are not yet perfect. This is because in encoder decoder architecture, only the final state of encoder is used to calculate the probabilities. We now move to a more general approach called attention based approach. In this, we take a weighted sum of all weights of encoder instead of just the last one. You are already provided an attention_decoder.py file with AttentionDecoder. Add this layer on top of your encoder and run the same experiment as before. For this part, you don't need to worry about return_probabilities argument to create_UniLSTMwithAttention function. Just pass it as an argument to your attention decoder layer. When return_probabilities is false, the attention decoder returns prediction model, which is what you need for this part of the assignment. When return_probabilities is true, the attention decoder returns the probability model, which you will be using later in the Analysis part of this assignment"
   ]
  },
  {
   "cell_type": "code",
   "execution_count": 16,
   "metadata": {},
   "outputs": [],
   "source": [
    "def load_data_attention(article, summary, max_len, vocab_size):\n",
    "    \n",
    "   \n",
    "    t1 = Tokenizer(num_words=10000)\n",
    "    t1.fit_on_texts(article)\n",
    "    article_words = sorted(t1.word_index.items(), key=operator.itemgetter(1))[0:vocab_size]\n",
    "    id2w_ad = ['ZERO'] + [i[0] for i in article_words]\n",
    "    \n",
    "       \n",
    "    t_ad = []\n",
    "    for sentence in article:\n",
    "        sentence_words = text_to_word_sequence(sentence)\n",
    "        sentence_words_idxs = [id2w_ad.index(word) if word in id2w_ad else id2w_ad.index('unk') for word in sentence_words]\n",
    "        t_ad.append(sentence_words_idxs)\n",
    "    \n",
    "    max_len_ad = max(len(i) for i in t_ad)\n",
    "    \n",
    "    w2id_ad = list(range(0, len(id2w_ad)))\n",
    "    \n",
    "    vs_ad = len(id2w_ad)\n",
    "    \n",
    "   \n",
    "    t2 = Tokenizer(num_words=10000)\n",
    "    t2.fit_on_texts(summary)\n",
    "    summary_words = sorted(t2.word_index.items(), key=operator.itemgetter(1))[0:vocab_size]\n",
    "    id2w_sd = ['ZERO'] + [i[0] for i in summary_words]\n",
    "    \n",
    "    \n",
    "    t_sd = []\n",
    "    for sentence in summary:\n",
    "        sentence_words = text_to_word_sequence(sentence)\n",
    "        sentence_word_idxs = [id2w_sd.index(word) if word in id2w_sd else id2w_sd.index('unk') for word in sentence_words]\n",
    "        t_sd.append(sentence_word_idxs) \n",
    "        \n",
    "    max_len_sd = max(len(i) for i in t_sd)\n",
    "    \n",
    "    max_len_pad = max(max_len_ad, max_len_sd)\n",
    "    \n",
    "    t_ad = pad_sequences(t_ad, maxlen=max_len, truncating='post', padding='post')\n",
    "    t_sd = pad_sequences(t_sd, maxlen=max_len, truncating='post', padding='post')\n",
    "    \n",
    "    w2id_sd = list(range(0, len(id2w_sd)))\n",
    "    \n",
    "    vs_sd = len(id2w_sd)\n",
    "    \n",
    "    \n",
    "\n",
    "    return t_ad, vs_ad, id2w_ad, w2id_ad, t_sd, vs_sd, id2w_sd, w2id_sd"
   ]
  },
  {
   "cell_type": "code",
   "execution_count": 17,
   "metadata": {},
   "outputs": [],
   "source": [
    "### Loading training data for attention LSTM\n",
    "\n",
    "with open ('data/train_article.txt') as f:\n",
    "    tr_article = f.read().splitlines()\n",
    "    \n",
    "with open ('data/train_title.txt') as f:\n",
    "    tr_summary = f.read().splitlines()\n",
    "    \n",
    "t_ad_at, vs_ad_at, id2w_ad_at, w2id_ad_at, t_sd_at, vs_sd_at, id2w_sd_at, w2id_sd_at = load_data_attention(tr_article, tr_summary, MAX_LEN_AT, VOCAB_SIZE_AT)\n",
    "\n"
   ]
  },
  {
   "cell_type": "code",
   "execution_count": 18,
   "metadata": {},
   "outputs": [],
   "source": [
    "### Loading testing data for attention LSTM\n",
    "\n",
    "with open('data/test_article.txt') as f:\n",
    "    te_article = f.read().splitlines()\n",
    "\n",
    "t_ad_test_unpad_at = []\n",
    "for sentence in te_article:\n",
    "    sentence_words = text_to_word_sequence(sentence)\n",
    "    sentence_words_idxs = [id2w_ad_at.index(word) if word in id2w_ad_at else id2w_ad_at.index('unk') for word in sentence_words]\n",
    "    t_ad_test_unpad_at.append(sentence_words_idxs)\n",
    "t_ad_test_at = pad_sequences(t_ad_test_unpad_at, maxlen=MAX_LEN_AT, truncating='post', padding='post')\n",
    "     \n",
    "with open('data/test_title.txt') as f:\n",
    "    te_summary = f.read().splitlines()\n",
    "\n",
    "t_sd_test_unpad_at = []\n",
    "t_sd_test_rouge_at = []\n",
    "for sentence in te_summary:\n",
    "    sentence_words = text_to_word_sequence(sentence)\n",
    "    t_sd_test_rouge_at.append(sentence_words)\n",
    "    sentence_words_idxs = [id2w_sd_at.index(word) if word in id2w_sd_at else id2w_sd_at.index('unk') for word in sentence_words]\n",
    "    t_sd_test_unpad_at.append(sentence_words_idxs)\n",
    "t_sd_test_at = pad_sequences(t_sd_test_unpad_at, maxlen=MAX_LEN_AT, truncating='post', padding='post')\n",
    " "
   ]
  },
  {
   "cell_type": "code",
   "execution_count": 19,
   "metadata": {},
   "outputs": [],
   "source": [
    "def generator_at(features, labels, batch_size):\n",
    "    batch_features = np.zeros((batch_size, 30)) \n",
    "    batch_labels = np.zeros((batch_size, 30, 10001))\n",
    "    while True:\n",
    "        for i in range(batch_size):\n",
    "            index = np.random.choice(len(features), 1)[0]\n",
    "#             batch_features[i] = to_categorical(features[index], num_classes=20002) ## one-hot encoding for use without embedding layer\n",
    "            batch_features[i] = features[index] ## sequences for use with embedding layer\n",
    "            batch_labels[i] = to_categorical(labels[index], num_classes=10001)\n",
    "        yield batch_features, batch_labels"
   ]
  },
  {
   "cell_type": "code",
   "execution_count": 20,
   "metadata": {},
   "outputs": [],
   "source": [
    "from attention_decoder import AttentionDecoder\n",
    "\n",
    "def create_UniLSTMwithAttention(X_vocab_len, X_max_len, y_vocab_len, y_max_len, hidden_size, num_layers, return_probabilities):\n",
    "    # TO-DO\n",
    "    # create and return the model for unidirectional LSTM encoder decoder with attention\n",
    "    model = Sequential()\n",
    "    model.add(Embedding(X_vocab_len, 128, input_length=X_max_len, mask_zero=True)) \n",
    "#     model.add(LSTM(hidden_size, activation='tanh', return_sequences=True)) ### USED for best_model_at_3\n",
    "    \n",
    "    model.add(Bidirectional(LSTM(hidden_size, activation='tanh', return_sequences=True)))  #### USED FOR BEST MODEL\n",
    " \n",
    "    model.add(AttentionDecoder(hidden_size, output_dim=y_vocab_len, activation='tanh', return_probabilities=return_probabilities))\n",
    "#     model.add(TimeDistributed(Dense(y_vocab_len, activation='softmax'))) #\n",
    "    \n",
    "    model.compile(optimizer='adam',\n",
    "                  loss='categorical_crossentropy',\n",
    "                  metrics=['accuracy']\n",
    "                 )\n",
    "    \n",
    "    return model"
   ]
  },
  {
   "cell_type": "markdown",
   "metadata": {},
   "source": [
    "# Train the Model"
   ]
  },
  {
   "cell_type": "markdown",
   "metadata": {},
   "source": [
    "Train the model, as you did before, for the model without attention"
   ]
  },
  {
   "cell_type": "code",
   "execution_count": 21,
   "metadata": {
    "scrolled": true
   },
   "outputs": [
    {
     "name": "stdout",
     "output_type": "stream",
     "text": [
      "_________________________________________________________________\n",
      "Layer (type)                 Output Shape              Param #   \n",
      "=================================================================\n",
      "embedding_2 (Embedding)      (None, 30, 128)           1280128   \n",
      "_________________________________________________________________\n",
      "bidirectional_2 (Bidirection (None, 30, 256)           263168    \n",
      "_________________________________________________________________\n",
      "AttentionDecoder (AttentionD (None, 30, 10001)         107940786 \n",
      "=================================================================\n",
      "Total params: 109,484,082\n",
      "Trainable params: 109,484,082\n",
      "Non-trainable params: 0\n",
      "_________________________________________________________________\n"
     ]
    }
   ],
   "source": [
    "# TO-DO\n",
    "model_at = create_UniLSTMwithAttention(10001, 30, 10001, 30, HIDDEN_DIM_AT, NUM_LAYERS_AT, return_probabilities=False)\n",
    "\n",
    "model_at.summary()"
   ]
  },
  {
   "cell_type": "code",
   "execution_count": null,
   "metadata": {},
   "outputs": [
    {
     "name": "stdout",
     "output_type": "stream",
     "text": [
      "Epoch 1/100\n",
      "125/125 [==============================] - 340s - loss: 4.8516 - acc: 0.4881 - val_loss: 4.4127 - val_acc: 0.4560\n",
      "Epoch 2/100\n",
      "125/125 [==============================] - 324s - loss: 3.9807 - acc: 0.5054 - val_loss: 4.3646 - val_acc: 0.4557\n",
      "Epoch 3/100\n",
      "125/125 [==============================] - 374s - loss: 3.9568 - acc: 0.5039 - val_loss: 4.3984 - val_acc: 0.4510\n",
      "Epoch 4/100\n",
      "125/125 [==============================] - 399s - loss: 3.9482 - acc: 0.5031 - val_loss: 4.3886 - val_acc: 0.4485\n",
      "Epoch 5/100\n",
      "125/125 [==============================] - 362s - loss: 3.8927 - acc: 0.5083 - val_loss: 4.3458 - val_acc: 0.4520\n",
      "Epoch 6/100\n",
      "125/125 [==============================] - 515s - loss: 3.8974 - acc: 0.5065 - val_loss: 4.3305 - val_acc: 0.4549\n",
      "Epoch 7/100\n",
      "125/125 [==============================] - 636s - loss: 3.9171 - acc: 0.5043 - val_loss: 4.3393 - val_acc: 0.4560\n",
      "Epoch 8/100\n",
      "125/125 [==============================] - 516s - loss: 3.8952 - acc: 0.5064 - val_loss: 4.3240 - val_acc: 0.4565\n",
      "Epoch 9/100\n",
      "125/125 [==============================] - 745s - loss: 3.8936 - acc: 0.5058 - val_loss: 4.3729 - val_acc: 0.4500\n",
      "Epoch 10/100\n",
      "125/125 [==============================] - 975s - loss: 3.8955 - acc: 0.5049 - val_loss: 4.3159 - val_acc: 0.4573\n",
      "Epoch 11/100\n",
      "125/125 [==============================] - 762s - loss: 3.8735 - acc: 0.5071 - val_loss: 4.2878 - val_acc: 0.4592\n",
      "Epoch 13/100\n",
      "125/125 [==============================] - 347s - loss: 3.7810 - acc: 0.5130 - val_loss: 4.2151 - val_acc: 0.4659\n",
      "Epoch 14/100\n",
      "125/125 [==============================] - 361s - loss: 3.7322 - acc: 0.5166 - val_loss: 4.3353 - val_acc: 0.4559\n",
      "Epoch 15/100\n",
      "125/125 [==============================] - 409s - loss: 3.7820 - acc: 0.5122 - val_loss: 4.2918 - val_acc: 0.4591\n",
      "Epoch 16/100\n",
      "125/125 [==============================] - 479s - loss: 3.8332 - acc: 0.5098 - val_loss: 4.3522 - val_acc: 0.4531\n",
      "Epoch 17/100\n",
      "125/125 [==============================] - 595s - loss: 3.8481 - acc: 0.5075 - val_loss: 4.3262 - val_acc: 0.4567\n",
      "Epoch 18/100\n",
      "125/125 [==============================] - 396s - loss: 3.7115 - acc: 0.5146 - val_loss: 4.2601 - val_acc: 0.4624\n",
      "Epoch 19/100\n",
      "125/125 [==============================] - 383s - loss: 3.6898 - acc: 0.5173 - val_loss: 4.2472 - val_acc: 0.4607\n",
      "Epoch 20/100\n",
      "125/125 [==============================] - 396s - loss: 3.7513 - acc: 0.5123 - val_loss: 4.2705 - val_acc: 0.4608\n",
      "Epoch 21/100\n",
      "125/125 [==============================] - 433s - loss: 3.7882 - acc: 0.5099 - val_loss: 4.3256 - val_acc: 0.4550\n",
      "Epoch 22/100\n",
      "125/125 [==============================] - 691s - loss: 3.8734 - acc: 0.5043 - val_loss: 4.3514 - val_acc: 0.4574\n",
      "Epoch 37/100\n",
      "125/125 [==============================] - 703s - loss: 3.8712 - acc: 0.5048 - val_loss: 4.3665 - val_acc: 0.4544\n",
      "Epoch 38/100\n",
      "125/125 [==============================] - 709s - loss: 3.8641 - acc: 0.5055 - val_loss: 4.3789 - val_acc: 0.4533\n",
      "Epoch 39/100\n",
      "125/125 [==============================] - 697s - loss: 3.8611 - acc: 0.5053 - val_loss: 4.3649 - val_acc: 0.4545\n",
      "Epoch 40/100\n",
      "125/125 [==============================] - 619s - loss: 3.8748 - acc: 0.5035 - val_loss: 4.3134 - val_acc: 0.4589\n",
      "Epoch 41/100\n",
      "125/125 [==============================] - 305s - loss: 3.3935 - acc: 0.5267 - val_loss: 4.1225 - val_acc: 0.4693\n",
      "Epoch 42/100\n",
      "125/125 [==============================] - 302s - loss: 3.2805 - acc: 0.5321 - val_loss: 4.1233 - val_acc: 0.4709\n",
      "Epoch 43/100\n",
      "125/125 [==============================] - 308s - loss: 3.1896 - acc: 0.5359 - val_loss: 4.1889 - val_acc: 0.4675\n",
      "Epoch 44/100\n",
      "125/125 [==============================] - 323s - loss: 3.1583 - acc: 0.5389 - val_loss: 4.1895 - val_acc: 0.4677\n",
      "Epoch 45/100\n",
      "125/125 [==============================] - 308s - loss: 3.0485 - acc: 0.5437 - val_loss: 4.2963 - val_acc: 0.4634\n",
      "Epoch 46/100\n",
      "125/125 [==============================] - 312s - loss: 3.0035 - acc: 0.5467 - val_loss: 4.3045 - val_acc: 0.4660\n",
      "Epoch 47/100\n",
      "125/125 [==============================] - 318s - loss: 2.9426 - acc: 0.5499 - val_loss: 4.3082 - val_acc: 0.4667\n",
      "Epoch 48/100\n",
      "125/125 [==============================] - 357s - loss: 2.9940 - acc: 0.5484 - val_loss: 4.4616 - val_acc: 0.4568\n",
      "Epoch 49/100\n",
      "125/125 [==============================] - 499s - loss: 3.4231 - acc: 0.5291 - val_loss: 4.3785 - val_acc: 0.4621\n",
      "Epoch 50/100\n",
      "125/125 [==============================] - 579s - loss: 3.5083 - acc: 0.5235 - val_loss: 4.3877 - val_acc: 0.4577\n",
      "Epoch 51/100\n",
      "125/125 [==============================] - 559s - loss: 3.6677 - acc: 0.5152 - val_loss: 4.4885 - val_acc: 0.4495\n",
      "Epoch 52/100\n",
      "125/125 [==============================] - 620s - loss: 3.7263 - acc: 0.5109 - val_loss: 4.4135 - val_acc: 0.4546\n",
      "Epoch 53/100\n",
      "125/125 [==============================] - 592s - loss: 3.6923 - acc: 0.5122 - val_loss: 4.3757 - val_acc: 0.4565\n",
      "Epoch 54/100\n",
      "125/125 [==============================] - 450s - loss: 3.2567 - acc: 0.5330 - val_loss: 4.1499 - val_acc: 0.4734\n",
      "Epoch 55/100\n",
      "125/125 [==============================] - 429s - loss: 2.9994 - acc: 0.5489 - val_loss: 4.1769 - val_acc: 0.4722\n",
      "Epoch 56/100\n",
      "125/125 [==============================] - 394s - loss: 2.8894 - acc: 0.5570 - val_loss: 4.3652 - val_acc: 0.4584\n",
      "Epoch 57/100\n",
      "125/125 [==============================] - 396s - loss: 2.8816 - acc: 0.5575 - val_loss: 4.4622 - val_acc: 0.4549\n",
      "Epoch 58/100\n",
      "125/125 [==============================] - 387s - loss: 2.9793 - acc: 0.5543 - val_loss: 4.2298 - val_acc: 0.4685\n",
      "Epoch 59/100\n",
      "125/125 [==============================] - 380s - loss: 3.1055 - acc: 0.5500 - val_loss: 4.1458 - val_acc: 0.4761\n",
      "Epoch 60/100\n",
      "125/125 [==============================] - 415s - loss: 2.9874 - acc: 0.5552 - val_loss: 4.2112 - val_acc: 0.4727\n",
      "Epoch 61/100\n",
      "125/125 [==============================] - 546s - loss: 3.3376 - acc: 0.5356 - val_loss: 4.5149 - val_acc: 0.4536\n",
      "Epoch 62/100\n",
      "125/125 [==============================] - 795s - loss: 3.7902 - acc: 0.5071 - val_loss: 4.4272 - val_acc: 0.4547\n",
      "Epoch 63/100\n",
      "125/125 [==============================] - 780s - loss: 3.7465 - acc: 0.5097 - val_loss: 4.4120 - val_acc: 0.4549\n",
      "Epoch 64/100\n",
      "125/125 [==============================] - 756s - loss: 3.7742 - acc: 0.5067 - val_loss: 4.3977 - val_acc: 0.4561\n",
      "Epoch 65/100\n",
      "125/125 [==============================] - 739s - loss: 3.7423 - acc: 0.5091 - val_loss: 4.3980 - val_acc: 0.4541\n",
      "Epoch 66/100\n",
      "125/125 [==============================] - 619s - loss: 3.6480 - acc: 0.5130 - val_loss: 4.3896 - val_acc: 0.4595\n",
      "Epoch 67/100\n",
      "125/125 [==============================] - 579s - loss: 3.6684 - acc: 0.5120 - val_loss: 4.4092 - val_acc: 0.4560\n",
      "Epoch 68/100\n",
      "125/125 [==============================] - 835s - loss: 3.8463 - acc: 0.5062 - val_loss: 4.4451 - val_acc: 0.4519\n",
      "Epoch 69/100\n",
      "125/125 [==============================] - 768s - loss: 3.8850 - acc: 0.5040 - val_loss: 4.4282 - val_acc: 0.4516\n",
      "Epoch 70/100\n",
      "125/125 [==============================] - 841s - loss: 3.8791 - acc: 0.5040 - val_loss: 4.3857 - val_acc: 0.4571\n",
      "Epoch 71/100\n",
      "125/125 [==============================] - 815s - loss: 3.8753 - acc: 0.5041 - val_loss: 4.3908 - val_acc: 0.4565\n",
      "Epoch 72/100\n",
      "125/125 [==============================] - 796s - loss: 3.8697 - acc: 0.5044 - val_loss: 4.3931 - val_acc: 0.4562\n",
      "Epoch 73/100\n",
      "125/125 [==============================] - 800s - loss: 3.8648 - acc: 0.5051 - val_loss: 4.3932 - val_acc: 0.4553\n",
      "Epoch 74/100\n",
      "125/125 [==============================] - 844s - loss: 3.8656 - acc: 0.5045 - val_loss: 4.3950 - val_acc: 0.4547\n",
      "Epoch 75/100\n",
      "125/125 [==============================] - 856s - loss: 3.8664 - acc: 0.5040 - val_loss: 4.4068 - val_acc: 0.4532\n",
      "Epoch 76/100\n",
      "125/125 [==============================] - 837s - loss: 3.8784 - acc: 0.5030 - val_loss: 4.4092 - val_acc: 0.4512\n",
      "Epoch 77/100\n",
      "125/125 [==============================] - 845s - loss: 3.8723 - acc: 0.5037 - val_loss: 4.3953 - val_acc: 0.4542\n",
      "Epoch 78/100\n",
      "125/125 [==============================] - 822s - loss: 3.8615 - acc: 0.5046 - val_loss: 4.3991 - val_acc: 0.4520\n",
      "Epoch 79/100\n",
      "125/125 [==============================] - 826s - loss: 3.8712 - acc: 0.5043 - val_loss: 4.4083 - val_acc: 0.4523\n",
      "Epoch 80/100\n",
      "125/125 [==============================] - 819s - loss: 3.8767 - acc: 0.5033 - val_loss: 4.3995 - val_acc: 0.4537\n",
      "Epoch 81/100\n",
      "125/125 [==============================] - 832s - loss: 3.8615 - acc: 0.5043 - val_loss: 4.4175 - val_acc: 0.4537\n",
      "Epoch 82/100\n",
      "125/125 [==============================] - 774s - loss: 3.8632 - acc: 0.5044 - val_loss: 4.4035 - val_acc: 0.4537\n",
      "Epoch 83/100\n",
      "125/125 [==============================] - 802s - loss: 3.8739 - acc: 0.5036 - val_loss: 4.4030 - val_acc: 0.4533\n",
      "Epoch 84/100\n",
      "125/125 [==============================] - 756s - loss: 3.8682 - acc: 0.5037 - val_loss: 4.4079 - val_acc: 0.4512\n",
      "Epoch 85/100\n",
      "125/125 [==============================] - 790s - loss: 3.8641 - acc: 0.5043 - val_loss: 4.4215 - val_acc: 0.4511\n",
      "Epoch 86/100\n",
      "125/125 [==============================] - 768s - loss: 3.8695 - acc: 0.5038 - val_loss: 4.4026 - val_acc: 0.4527\n",
      "Epoch 87/100\n",
      "125/125 [==============================] - 802s - loss: 3.8591 - acc: 0.5051 - val_loss: 4.4192 - val_acc: 0.4508\n",
      "Epoch 88/100\n",
      "125/125 [==============================] - 897s - loss: 3.8600 - acc: 0.5052 - val_loss: 4.3999 - val_acc: 0.4544\n",
      "Epoch 89/100\n",
      "125/125 [==============================] - 820s - loss: 3.8557 - acc: 0.5050 - val_loss: 4.3852 - val_acc: 0.4546\n",
      "Epoch 90/100\n",
      "125/125 [==============================] - 854s - loss: 3.8588 - acc: 0.5045 - val_loss: 4.3857 - val_acc: 0.4542\n",
      "Epoch 91/100\n",
      "125/125 [==============================] - 847s - loss: 3.8550 - acc: 0.5051 - val_loss: 4.3987 - val_acc: 0.4533\n",
      "Epoch 92/100\n",
      "125/125 [==============================] - 902s - loss: 3.8658 - acc: 0.5044 - val_loss: 4.4079 - val_acc: 0.4533\n",
      "Epoch 93/100\n",
      "125/125 [==============================] - 803s - loss: 3.8596 - acc: 0.5045 - val_loss: 4.3881 - val_acc: 0.4565\n",
      "Epoch 94/100\n",
      "125/125 [==============================] - 782s - loss: 3.8566 - acc: 0.5051 - val_loss: 4.4020 - val_acc: 0.4530\n",
      "Epoch 95/100\n",
      "125/125 [==============================] - 309s - loss: 2.9315 - acc: 0.5492 - val_loss: 4.3156 - val_acc: 0.4670\n",
      "Epoch 96/100\n",
      "125/125 [==============================] - 337s - loss: 2.7043 - acc: 0.5692 - val_loss: 4.2938 - val_acc: 0.4634\n",
      "Epoch 97/100\n",
      "125/125 [==============================] - 374s - loss: 2.7884 - acc: 0.5679 - val_loss: 4.6028 - val_acc: 0.4513\n",
      "Epoch 98/100\n",
      "125/125 [==============================] - 532s - loss: 3.5669 - acc: 0.5211 - val_loss: 4.3786 - val_acc: 0.4620\n",
      "Epoch 99/100\n",
      "125/125 [==============================] - 634s - loss: 3.7109 - acc: 0.5102 - val_loss: 4.4235 - val_acc: 0.4531\n",
      "Epoch 100/100\n",
      "125/125 [==============================] - 640s - loss: 3.8781 - acc: 0.5036 - val_loss: 4.4175 - val_acc: 0.4549\n"
     ]
    },
    {
     "data": {
      "text/plain": [
       "<keras.callbacks.History at 0x7f9ed8b66c90>"
      ]
     },
     "execution_count": 11,
     "metadata": {},
     "output_type": "execute_result"
    }
   ],
   "source": [
    "### another try\n",
    "wt_dir = \"weights/\"\n",
    "model_name = 'model_best_at'\n",
    "early_stopping =EarlyStopping(monitor='loss', patience=10)\n",
    "bst_model_path = wt_dir + model_name + '.h5'\n",
    "model_checkpoint = ModelCheckpoint(bst_model_path, monitor='loss', save_best_only=True, save_weights_only=True)\n",
    "\n",
    "model_at.fit_generator(generator_at(t_ad_at, t_sd_at, batch_size=BATCH_SIZE_AT),\n",
    "                    steps_per_epoch = len(t_ad_at)/BATCH_SIZE_AT,\n",
    "#                     steps_per_epoch=1,\n",
    "                    epochs=100,\n",
    "                    validation_data = generator_at(t_ad_test_at, t_sd_test_at, batch_size=BATCH_SIZE_AT),\n",
    "                    validation_steps = len(t_ad_test_at)/BATCH_SIZE_AT,\n",
    "#                     validation_steps=1,\n",
    "                    verbose=1,\n",
    "                    callbacks = [model_checkpoint]\n",
    "                    )\n",
    "\n"
   ]
  },
  {
   "cell_type": "code",
   "execution_count": 22,
   "metadata": {},
   "outputs": [],
   "source": [
    "model_at.load_weights('weights/model_best_at.h5')"
   ]
  },
  {
   "cell_type": "code",
   "execution_count": 23,
   "metadata": {},
   "outputs": [],
   "source": [
    "pred_total_at = model_at.predict(t_ad_test_at)\n",
    "\n",
    "pred_idx_total_at = np.argmax(pred_total_at, axis=2)\n",
    "pred_idx_total_at = [filter(lambda i: i!=0, ix) for ix in pred_idx_total_at]\n",
    "\n",
    "# ref_sent = [' '.join(np.array(id2w_sd_at)[t_sd_test_unpad_at[i]]) for i in range(len(t_sd_test_at))]\n",
    "ref_sent_at = [' '.join(t_sd_test_rouge_at[i]) for i in range(len(t_sd_test_at))]\n",
    "\n",
    "hypo_sent_at = [' '.join(np.array(id2w_sd_at)[pred_idx_total_at[i]]) for i in range(len(t_sd_test_at))]"
   ]
  },
  {
   "cell_type": "markdown",
   "metadata": {},
   "source": [
    "# Evaluation using Rouge Score"
   ]
  },
  {
   "cell_type": "markdown",
   "metadata": {},
   "source": [
    "Evaluate your model as before, using Rouge score. Ideally, your scores for the model with attention should be better than the model without attention"
   ]
  },
  {
   "cell_type": "code",
   "execution_count": 96,
   "metadata": {},
   "outputs": [
    {
     "data": {
      "text/plain": [
       "{'rouge-1': {'f': 0.18400856973191315,\n",
       "  'p': 0.14792058007904427,\n",
       "  'r': 0.30457290249433105},\n",
       " 'rouge-2': {'f': 0.057784296041175125,\n",
       "  'p': 0.054392960412603268,\n",
       "  'r': 0.065974319727891154},\n",
       " 'rouge-l': {'f': 0.14946174255726097,\n",
       "  'p': 0.1453515043718383,\n",
       "  'r': 0.18128236961451247}}"
      ]
     },
     "execution_count": 96,
     "metadata": {},
     "output_type": "execute_result"
    }
   ],
   "source": [
    "##################### BEST OUTPUT MODEL\n",
    "from rouge import Rouge\n",
    "rouge = Rouge()\n",
    "\n",
    "hyps, refs = map(list, zip(*[[ref_sent_at[i], hypo_sent_at[i]] for i in range(len(t_sd_test_at))])) ### rouge for multiple values\n",
    "                     \n",
    "rouge.get_scores(hyps, refs, avg=True)"
   ]
  },
  {
   "cell_type": "markdown",
   "metadata": {},
   "source": [
    "# Perplexity "
   ]
  },
  {
   "cell_type": "markdown",
   "metadata": {},
   "source": [
    "Even though we evaluate our models on ROUGE score, we don't train our neural networks to learn better ROUGE score for the fact that ROUGE score is a complicated nonconvex function. How does our model learn then? In information theory, Perplexity is a measure of how good a model is.\n",
    "\n",
    "Perplexity                     $$ = 2^{{-\\sum _{x}p(x)\\log _{2}p(x)}}$$ \n",
    "            \n",
    "Lower the perplexity, better the model. Justify why our model learns well with our loss function? "
   ]
  },
  {
   "cell_type": "markdown",
   "metadata": {},
   "source": [
    "### ANSWER\n",
    "Perplexity is 2^(Cross-Entropy) and Cross-Entropy is the loss function (adapted to the format of our output, like categorical cross_entropy for multiple classes in the output) we optimize our model on. Our model tries to lower this cross-entropy and learn features, which translates to lower perplexity and thus more information learnt, which is coherent with the principle of information theory. "
   ]
  },
  {
   "cell_type": "markdown",
   "metadata": {},
   "source": [
    "# Analysis"
   ]
  },
  {
   "cell_type": "markdown",
   "metadata": {},
   "source": [
    "You will now plot the attention weights for a sentence and it's output. If a grid cell is white in the plot, it means that during summary, the word on x-axis corresponds to the word on y-axis. You are provided with a Visualizer class for helping you out. Make sure you install matplotlib using sudo pip3 install matplotlib and also install python3-tk using sudo apt-get install python3-tk"
   ]
  },
  {
   "cell_type": "code",
   "execution_count": 25,
   "metadata": {},
   "outputs": [],
   "source": [
    "import argparse\n",
    "import os\n",
    "\n",
    "import numpy as np\n",
    "import matplotlib.pyplot as plt\n",
    "import matplotlib.patches as mpatches\n",
    "%matplotlib inline"
   ]
  },
  {
   "cell_type": "code",
   "execution_count": 26,
   "metadata": {},
   "outputs": [],
   "source": [
    "class Visualizer(object):\n",
    "\n",
    "    def __init__(self):\n",
    "        \"\"\"\n",
    "            Visualizes attention maps\n",
    "        \"\"\"\n",
    "        \n",
    "        \n",
    "    def set_models(self, pred_model, proba_model):\n",
    "        \"\"\"\n",
    "            Sets the models to use\n",
    "            :param pred_model: the prediction model\n",
    "            :param proba_model: the model that outputs the activation maps\n",
    "        \"\"\"\n",
    "        self.pred_model = pred_model\n",
    "        self.proba_model = proba_model\n",
    "\n",
    "    def attention_map(self, text, padded_data_vec, y_idx_to_word):\n",
    "        \"\"\"\n",
    "            Displays the attention weights graph\n",
    "            param: input sentence\n",
    "            param: padded_data_vector for prediction\n",
    "            param: idx2word dictionary for titles\n",
    "        \"\"\"\n",
    "        input_length = len(text.split())\n",
    "       \n",
    "        # get the output sequence\n",
    "        prediction = np.argmax(pred_model.predict(padded_data_vec), axis=2)[0]\n",
    "        text_ = text.split()\n",
    "        valids = [y_idx_to_word[index] for index in prediction if index > 0]\n",
    "        sequence = ' '.join(valids)\n",
    "        predicted_text = sequence.split()\n",
    "        output_length = len(predicted_text)\n",
    "        #get the weights\n",
    "        activation_map = np.squeeze(self.proba_model.predict(padded_data_vec))[\n",
    "            0:output_length, 0:input_length]\n",
    "        \n",
    "        plt.clf()\n",
    "        f = plt.figure(figsize=(8, 8.5))\n",
    "        ax = f.add_subplot(1, 1, 1)\n",
    "\n",
    "        # add image\n",
    "        i = ax.imshow(activation_map, interpolation='nearest', cmap='gray') ### you could change this\n",
    "        \n",
    "        # add colorbar\n",
    "        cbaxes = f.add_axes([0.2, 0, 0.6, 0.03])\n",
    "        cbar = f.colorbar(i, cax=cbaxes, orientation='horizontal')\n",
    "        cbar.ax.set_xlabel('Probability', labelpad=2)\n",
    "\n",
    "        # add labels\n",
    "        ax.set_yticks(range(output_length))\n",
    "        ax.set_yticklabels(predicted_text[:output_length])\n",
    "        \n",
    "        ax.set_xticks(range(input_length))\n",
    "        ax.set_xticklabels(text_[:input_length], rotation=45)\n",
    "        \n",
    "        ax.set_xlabel('Input Sequence')\n",
    "        ax.set_ylabel('Output Sequence')\n",
    "\n",
    "        # add grid and legend\n",
    "        ax.grid()\n",
    "        \n",
    "        f.show()"
   ]
  },
  {
   "cell_type": "markdown",
   "metadata": {},
   "source": [
    "You can initialize Visualizer class as follows"
   ]
  },
  {
   "cell_type": "code",
   "execution_count": 27,
   "metadata": {},
   "outputs": [],
   "source": [
    "viz = Visualizer()"
   ]
  },
  {
   "cell_type": "markdown",
   "metadata": {},
   "source": [
    "Visualizer has two methods.\n",
    "- set_models \n",
    "- attention_map\n",
    "\n",
    "The set_models takes in prediction model and probability model as inputs. In *create_UniLSTMwithAttention*, the model with *return_probabilities = False* which you already used in the training is the prediction model. For initializing probability model, call *create_UniLSTMwithAttention* with *return_probabilities = True* and initialize the weights with weights of prediction model. Now you can call set_models in this manner:"
   ]
  },
  {
   "cell_type": "code",
   "execution_count": 28,
   "metadata": {},
   "outputs": [],
   "source": [
    "pred_model = model_at"
   ]
  },
  {
   "cell_type": "code",
   "execution_count": 29,
   "metadata": {},
   "outputs": [],
   "source": [
    "pred_model.load_weights('weights/model_best_at.h5')"
   ]
  },
  {
   "cell_type": "code",
   "execution_count": 30,
   "metadata": {},
   "outputs": [],
   "source": [
    "prob_model = create_UniLSTMwithAttention(10001, 30, 10001, 30, HIDDEN_DIM_AT, NUM_LAYERS_AT, return_probabilities=True)"
   ]
  },
  {
   "cell_type": "code",
   "execution_count": 31,
   "metadata": {},
   "outputs": [],
   "source": [
    "prob_model.load_weights('weights/model_best_at.h5')"
   ]
  },
  {
   "cell_type": "code",
   "execution_count": 35,
   "metadata": {
    "scrolled": true
   },
   "outputs": [
    {
     "name": "stdout",
     "output_type": "stream",
     "text": [
      "_________________________________________________________________\n",
      "Layer (type)                 Output Shape              Param #   \n",
      "=================================================================\n",
      "embedding_3 (Embedding)      (None, 30, 128)           1280128   \n",
      "_________________________________________________________________\n",
      "bidirectional_3 (Bidirection (None, 30, 256)           263168    \n",
      "_________________________________________________________________\n",
      "AttentionDecoder (AttentionD (None, 30, 30)            107940786 \n",
      "=================================================================\n",
      "Total params: 109,484,082\n",
      "Trainable params: 109,484,082\n",
      "Non-trainable params: 0\n",
      "_________________________________________________________________\n"
     ]
    }
   ],
   "source": [
    "prob_model.summary()"
   ]
  },
  {
   "cell_type": "code",
   "execution_count": 32,
   "metadata": {},
   "outputs": [],
   "source": [
    "viz.set_models(pred_model,prob_model) "
   ]
  },
  {
   "cell_type": "markdown",
   "metadata": {},
   "source": [
    "Use the above Visualizer to visualize attention weights for 15 sentences, as instructed in the Analysis section of the accompanying HW document"
   ]
  },
  {
   "cell_type": "markdown",
   "metadata": {},
   "source": [
    "attention_map creates the weights map for you. You need to give a sample sentence, a test_data_vector on which we call call model.predict and your output idx2word dictionary. You can call it as follows"
   ]
  },
  {
   "cell_type": "markdown",
   "metadata": {},
   "source": [
    "## GOOD SUMMARIES"
   ]
  },
  {
   "cell_type": "markdown",
   "metadata": {},
   "source": [
    "#### LABELS USED: \n",
    "- I: input test article sentence\n",
    "- G: gold standard test summary \n",
    "- NA: summary predicted by the non-attention model\n",
    "- A: summary predicted by the attention model"
   ]
  },
  {
   "cell_type": "markdown",
   "metadata": {},
   "source": [
    "#### SENTENCE-1 \n",
    "\n",
    "- I(1): brazil beat ecuador #-# in a world cup qualifier in south american zone .\n",
    "- G: brazil beat ecuador #-# in world cup qualifier\n",
    "- NA: mexico beats peru in world cup qualifier\n",
    "- A: brazil beats ecuador in world cup qualifier"
   ]
  },
  {
   "cell_type": "code",
   "execution_count": 77,
   "metadata": {},
   "outputs": [
    {
     "data": {
      "text/plain": [
       "<matplotlib.figure.Figure at 0x7f149f5ef250>"
      ]
     },
     "metadata": {},
     "output_type": "display_data"
    },
    {
     "data": {
      "image/png": "[encoded data removed]",
      "text/plain": [
       "<matplotlib.figure.Figure at 0x7f149f528790>"
      ]
     },
     "metadata": {},
     "output_type": "display_data"
    }
   ],
   "source": [
    "viz.attention_map(' '.join(np.array(id2w_ad_at)[t_ad_test_unpad_at[1766]]), t_ad_test_at[1766].reshape((1, MAX_LEN_AT)), id2w_sd_at)"
   ]
  },
  {
   "cell_type": "markdown",
   "metadata": {},
   "source": [
    "#### EXPLANATION\n",
    "- The attention model's summary has matched the gold standard summary, with the exception of the score, which is fine since it very well summarizes the most important part of the news article. Whereas the non-attention model was not able to correctly identify the opponents in the game. From the attention-map we can see that the model has learnt strong correlation betweem the exact countries, Brazil and Ecuador as well as learnt correlation between world and cup or essentially world cup qualifier, which is what the game was about."
   ]
  },
  {
   "cell_type": "markdown",
   "metadata": {},
   "source": [
    "#### SENTENCE-2\n",
    "\n",
    "- I(2): asian stocks closed mostly higher tuesday following gains on wall street .\n",
    "- G: most asian stock markets close higher\n",
    "- NA: asian stock markets close mostly higher\n",
    "- A: asian stock markets close mostly higher"
   ]
  },
  {
   "cell_type": "code",
   "execution_count": 79,
   "metadata": {
    "scrolled": false
   },
   "outputs": [
    {
     "data": {
      "text/plain": [
       "<matplotlib.figure.Figure at 0x7f1478ceb550>"
      ]
     },
     "metadata": {},
     "output_type": "display_data"
    },
    {
     "data": {
      "image/png": "[encoded data removed]",
      "text/plain": [
       "<matplotlib.figure.Figure at 0x7f1478d27150>"
      ]
     },
     "metadata": {},
     "output_type": "display_data"
    }
   ],
   "source": [
    "viz.attention_map(' '.join(np.array(id2w_ad_at)[t_ad_test_unpad_at[2761]]), t_ad_test_at[2761].reshape((1, MAX_LEN_AT)), id2w_sd_at)"
   ]
  },
  {
   "cell_type": "markdown",
   "metadata": {},
   "source": [
    "#### EXPLANATION\n",
    "- The attention model's summary has well summarized the article sentence. Although there is mis-placement of the word mostly between the predicted summary and gold-standard, it aligns correctly with the part of the sentence in the article sentence resulting in an extractive summary. The non-attention model has the same summary as the attention model. The attention-map shows that the model has learnt the correlation between the words 'higher', 'mostly', 'closed' with 'close' and 'asian' with 'asian'."
   ]
  },
  {
   "cell_type": "markdown",
   "metadata": {},
   "source": [
    "#### SENTENCE-3\n",
    "\n",
    "- I(3): tokyo stocks rose wednesday , boosted by overnight gains on wall street .\n",
    "- G: tokyo stocks rise dollar higher against yen in early trading\n",
    "- NA: tokyo stocks up dollar higher against yen\n",
    "- A: tokyo stocks rise dollar higher against yen yen"
   ]
  },
  {
   "cell_type": "code",
   "execution_count": 73,
   "metadata": {},
   "outputs": [
    {
     "data": {
      "text/plain": [
       "<matplotlib.figure.Figure at 0x7f149fa371d0>"
      ]
     },
     "metadata": {},
     "output_type": "display_data"
    },
    {
     "data": {
      "image/png": "[encoded data removed]",
      "text/plain": [
       "<matplotlib.figure.Figure at 0x7f149f860910>"
      ]
     },
     "metadata": {},
     "output_type": "display_data"
    }
   ],
   "source": [
    "viz.attention_map(' '.join(np.array(id2w_ad_at)[t_ad_test_unpad_at[437]]), t_ad_test_at[437].reshape((1, MAX_LEN_AT)), id2w_sd_at)"
   ]
  },
  {
   "cell_type": "markdown",
   "metadata": {},
   "source": [
    "#### EXPLANATION\n",
    "- The attention model's summary has captured most of the gold-standard summary, with repetition of word 'yen', but it perfectly captures the information in the summary. The non-attention model has also produced the summary well with the word difference of 'up' vs 'rise'. The attention map shows that the model learnt well the correlations between 'rose' and 'rise', tokyo, and 'against yen' with boosted."
   ]
  },
  {
   "cell_type": "markdown",
   "metadata": {},
   "source": [
    "#### SENTENCE-4\n",
    "\n",
    "- I(4): the taiwan stock exchange 's main index opened sharply higher wednesday .\n",
    "- G: taiwan shares open sharply higher\n",
    "- NA: taiwan shares open higher higher\n",
    "- A: taiwan stock market opens higher"
   ]
  },
  {
   "cell_type": "code",
   "execution_count": 72,
   "metadata": {},
   "outputs": [
    {
     "data": {
      "text/plain": [
       "<matplotlib.figure.Figure at 0x7f149f915e10>"
      ]
     },
     "metadata": {},
     "output_type": "display_data"
    },
    {
     "data": {
      "image/png": "[encoded data removed]",
      "text/plain": [
       "<matplotlib.figure.Figure at 0x7f149f9524d0>"
      ]
     },
     "metadata": {},
     "output_type": "display_data"
    }
   ],
   "source": [
    "viz.attention_map(' '.join(np.array(id2w_ad_at)[t_ad_test_unpad_at[530]]), t_ad_test_at[530].reshape((1, MAX_LEN_AT)), id2w_sd_at)"
   ]
  },
  {
   "cell_type": "markdown",
   "metadata": {},
   "source": [
    "#### EXPLANATION\n",
    "- The attention model summary isnt exactly same as the gold-standard, but it preserves the meaning. Also, it is well extracted from the article sentence. Stock market and shares are used to indicate the same thing. The non-attention model summary also abstracts well, but erroneously repeats the word higher. Maybe it is used to add adjective to the word higher to indicate sharply higher. The attention-map shows model's correlation between 'opened' and 'opens' to understand tense, 'taiwan' and 'taiwan', and 'exchange' and 'market' to understand financial synonyms. "
   ]
  },
  {
   "cell_type": "markdown",
   "metadata": {},
   "source": [
    "#### SENTENCE-5\n",
    "\n",
    "- I(5): share prices on the london stock exchange were higher at midday tuesday .\n",
    "- G: london share prices up at midday\n",
    "- NA: london share prices higher at midday\n",
    "- A: london share prices higher midday midday"
   ]
  },
  {
   "cell_type": "code",
   "execution_count": 84,
   "metadata": {},
   "outputs": [
    {
     "data": {
      "text/plain": [
       "<matplotlib.figure.Figure at 0x7f1478bc4ad0>"
      ]
     },
     "metadata": {},
     "output_type": "display_data"
    },
    {
     "data": {
      "image/png": "[encoded data removed]",
      "text/plain": [
       "<matplotlib.figure.Figure at 0x7f149f4bd690>"
      ]
     },
     "metadata": {},
     "output_type": "display_data"
    }
   ],
   "source": [
    "#viz.attention_map(text,test_data_vector,idx2word)\n",
    "viz.attention_map(' '.join(np.array(id2w_ad_at)[t_ad_test_unpad_at[0]]), t_ad_test_at[0].reshape((1, MAX_LEN_AT)), id2w_sd_at)"
   ]
  },
  {
   "cell_type": "markdown",
   "metadata": {},
   "source": [
    "#### EXPLANATION\n",
    "- The attention model summary is almost same as gold-standard, with 1 word difference while preserving the meaning. But it's words are extracted from article sentence. Erroneously midday is repeated. The non-attention model summary produces the summary without any errors. The attention map shows the model learnt correlation between 'exchange' and 'prices', 'london' and 'london', and 'higher' and 'higher'."
   ]
  },
  {
   "cell_type": "markdown",
   "metadata": {},
   "source": [
    "## BAD SUMMARIES"
   ]
  },
  {
   "cell_type": "markdown",
   "metadata": {},
   "source": [
    "#### SENTENCE-6\n",
    "- I(6): the euro and the yen rose slightly against the u.s. dollar on wednesday .\n",
    "- G: euro yen slightly higher against u.s. dollar\n",
    "- NA: euro hits against euro dollar dollar dollar\n",
    "- A: euro falls against dollar against against"
   ]
  },
  {
   "cell_type": "code",
   "execution_count": 71,
   "metadata": {},
   "outputs": [
    {
     "data": {
      "text/plain": [
       "<matplotlib.figure.Figure at 0x7f149fa7b450>"
      ]
     },
     "metadata": {},
     "output_type": "display_data"
    },
    {
     "data": {
      "image/png": "[encoded data removed]",
      "text/plain": [
       "<matplotlib.figure.Figure at 0x7f149fa75050>"
      ]
     },
     "metadata": {},
     "output_type": "display_data"
    }
   ],
   "source": [
    "viz.attention_map(' '.join(np.array(id2w_ad_at)[t_ad_test_unpad_at[440]]), t_ad_test_at[440].reshape((1, MAX_LEN_AT)), id2w_sd_at)"
   ]
  },
  {
   "cell_type": "markdown",
   "metadata": {},
   "source": [
    "#### EXPLANATION\n",
    "-  The attention model summary is clearly opposite in meaning of the gold-standard, hence a bad summary. The non-attention model summary is erroneous in repeating words and producing a meaningless statement. The attention-map shows that the model learnt the few correlations like 'euro' and 'euro', and 'against' and 'against'."
   ]
  },
  {
   "cell_type": "markdown",
   "metadata": {},
   "source": [
    "#### SENTENCE-7\n",
    "- I(7): the dollar gained on most other major currencies in light trading thursday .\n",
    "- G: dollar ends mostly higher\n",
    "- NA: dollar rises against currencies\n",
    "- A: dollar up gold up"
   ]
  },
  {
   "cell_type": "code",
   "execution_count": 57,
   "metadata": {},
   "outputs": [
    {
     "data": {
      "text/plain": [
       "<matplotlib.figure.Figure at 0x7f178544b150>"
      ]
     },
     "metadata": {},
     "output_type": "display_data"
    },
    {
     "data": {
      "image/png": "[encoded data removed]",
      "text/plain": [
       "<matplotlib.figure.Figure at 0x7f178543fd90>"
      ]
     },
     "metadata": {},
     "output_type": "display_data"
    }
   ],
   "source": [
    "viz.attention_map(' '.join(np.array(id2w_ad_at)[t_ad_test_unpad_at[6992]]), t_ad_test_at[6992].reshape((1, MAX_LEN_AT)), id2w_sd_at)"
   ]
  },
  {
   "cell_type": "markdown",
   "metadata": {},
   "source": [
    "#### EXPLANATION\n",
    "- The attention model summary does not make any sense. Also, the non-attention model summary abstracts well in meaning from the article sentence and matches in meaning with the gold-standard, but not in words. This is very interesting since, this might reduce the rouge-score indicating a poorly learnt system whereas infact the system abstracts good summaries. The attention-map also shows few well the model learnt correlations like 'dollar' with 'dollar'. "
   ]
  },
  {
   "cell_type": "markdown",
   "metadata": {},
   "source": [
    "#### SENTENCE-8\n",
    "- I(8): tropical storm sergio weakened late friday as it headed out to the pacific .\n",
    "- G: tropical storm sergio weakens and heads out to sea\n",
    "- NA: tropical storm unk becomes in the\n",
    "- A: tropical storm unk to to pacific pacific"
   ]
  },
  {
   "cell_type": "code",
   "execution_count": 58,
   "metadata": {},
   "outputs": [
    {
     "data": {
      "text/plain": [
       "<matplotlib.figure.Figure at 0x7f1787bdc1d0>"
      ]
     },
     "metadata": {},
     "output_type": "display_data"
    },
    {
     "data": {
      "image/png": "[encoded data removed]",
      "text/plain": [
       "<matplotlib.figure.Figure at 0x7f17853c6390>"
      ]
     },
     "metadata": {},
     "output_type": "display_data"
    }
   ],
   "source": [
    "viz.attention_map(' '.join(np.array(id2w_ad_at)[t_ad_test_unpad_at[6995]]), t_ad_test_at[6995].reshape((1, MAX_LEN_AT)), id2w_sd_at)"
   ]
  },
  {
   "cell_type": "markdown",
   "metadata": {},
   "source": [
    "#### EXPLANATION\n",
    "- The attention summary is missing details and does not make sense (bad summary). The non-attention summary seems to be in the right direction but does not complete the information. The attention map shows kind of a sequential correlation. 'storm' correlates with 'tropical' and 'headed' correlates with 'pacific'."
   ]
  },
  {
   "cell_type": "markdown",
   "metadata": {},
   "source": [
    "#### SENTENCE-9\n",
    "- I(9): wales drew ##-## with fiji in a rugby test at millennium stadium on friday .\n",
    "- G: wales draws with fiji ##-##\n",
    "- NA: wales draws with nations against match match\n",
    "- A: wales draws wales result"
   ]
  },
  {
   "cell_type": "code",
   "execution_count": 59,
   "metadata": {},
   "outputs": [
    {
     "data": {
      "text/plain": [
       "<matplotlib.figure.Figure at 0x7f16b851d250>"
      ]
     },
     "metadata": {},
     "output_type": "display_data"
    },
    {
     "data": {
      "image/png": "[encoded data removed]",
      "text/plain": [
       "<matplotlib.figure.Figure at 0x7f1611c57d90>"
      ]
     },
     "metadata": {},
     "output_type": "display_data"
    }
   ],
   "source": [
    "viz.attention_map(' '.join(np.array(id2w_ad_at)[t_ad_test_unpad_at[6985]]), t_ad_test_at[6985].reshape((1, MAX_LEN_AT)), id2w_sd_at)"
   ]
  },
  {
   "cell_type": "markdown",
   "metadata": {},
   "source": [
    "#### EXPLANATION\n",
    "- The attention summary does not convey much meaning. Seems like the 2nd 'wales' could have been 'fiji', as the attention map correlates. The attention map also shows a very dull correlation between 'wales' and 'wales'. The non-attention summary is also meaningless. "
   ]
  },
  {
   "cell_type": "markdown",
   "metadata": {},
   "source": [
    "#### SENTENCE-10\n",
    "- I(10): mexican stocks closed lower thursday , dragged down again by u.s. bears .\n",
    "- G: stocks finish down in mexico chile ; rise sharply in argentina\n",
    "- NA: stocks down in mexico argentina chile in in chile\n",
    "- A: stocks down lower in lower"
   ]
  },
  {
   "cell_type": "code",
   "execution_count": 60,
   "metadata": {
    "scrolled": false
   },
   "outputs": [
    {
     "data": {
      "text/plain": [
       "<matplotlib.figure.Figure at 0x7f1611d17a10>"
      ]
     },
     "metadata": {},
     "output_type": "display_data"
    },
    {
     "data": {
      "image/png": "[encoded data removed]",
      "text/plain": [
       "<matplotlib.figure.Figure at 0x7f14b8903c90>"
      ]
     },
     "metadata": {},
     "output_type": "display_data"
    }
   ],
   "source": [
    "viz.attention_map(' '.join(np.array(id2w_ad_at)[t_ad_test_unpad_at[6]]), t_ad_test_at[6].reshape((1, MAX_LEN_AT)), id2w_sd_at)"
   ]
  },
  {
   "cell_type": "markdown",
   "metadata": {},
   "source": [
    "#### EXPLANATION\n",
    "- The attention summary isn't completely meaningful (bad summary). The non-attention summary is meaningful but presents wrong information compared to gold-standard summary. The attention-map correlates 'lower' with 'lower', 'mexican' with 'stocks' which is correct, and 'closed lower' with 'down'. So, the model seems to have learnt good correlations. "
   ]
  },
  {
   "cell_type": "markdown",
   "metadata": {},
   "source": [
    "## RANDOM SUMMARIES"
   ]
  },
  {
   "cell_type": "markdown",
   "metadata": {},
   "source": [
    "#### SENTENCE-11\n",
    "\n",
    "- I(11): australian stocks closed predictably lower after a day of quiet trading .\n",
    "- G: australian stocks end lower\n",
    "- NA: australian stocks close lower\n",
    "- A: australian stocks close lower"
   ]
  },
  {
   "cell_type": "code",
   "execution_count": 75,
   "metadata": {},
   "outputs": [
    {
     "data": {
      "text/plain": [
       "<matplotlib.figure.Figure at 0x7f149f73ded0>"
      ]
     },
     "metadata": {},
     "output_type": "display_data"
    },
    {
     "data": {
      "image/png": "[encoded data removed]",
      "text/plain": [
       "<matplotlib.figure.Figure at 0x7f149f6ca650>"
      ]
     },
     "metadata": {},
     "output_type": "display_data"
    }
   ],
   "source": [
    "viz.attention_map(' '.join(np.array(id2w_ad_at)[t_ad_test_unpad_at[1620]]), t_ad_test_at[1620].reshape((1, MAX_LEN_AT)), id2w_sd_at)"
   ]
  },
  {
   "cell_type": "markdown",
   "metadata": {},
   "source": [
    "#### EXPLANATION\n",
    "- The attention model and non-attention model summary are the same and almost exactly as the gold-standard (good summary) with the difference of 1 word (end vs close) where synonyms are used, and extracted from the article sentence. The attention-map also shows that the model learn decent correlations like 'lower' and 'lower', 'stocks' and 'stocks', and 'australian' and 'australian'. "
   ]
  },
  {
   "cell_type": "markdown",
   "metadata": {},
   "source": [
    "#### SENTENCE-12\n",
    "- I(12): israel appointed its first arab as a judge on the supreme court tuesday .\n",
    "- G: first arab judge joins israeli supreme court\n",
    "- NA: israel 's israel unk on law unk\n",
    "- A: israel unk unk unk in court"
   ]
  },
  {
   "cell_type": "code",
   "execution_count": 61,
   "metadata": {
    "scrolled": false
   },
   "outputs": [
    {
     "data": {
      "text/plain": [
       "<matplotlib.figure.Figure at 0x7f14b8914110>"
      ]
     },
     "metadata": {},
     "output_type": "display_data"
    },
    {
     "data": {
      "image/png": "[encoded data removed]",
      "text/plain": [
       "<matplotlib.figure.Figure at 0x7f14b88dacd0>"
      ]
     },
     "metadata": {},
     "output_type": "display_data"
    }
   ],
   "source": [
    "viz.attention_map(' '.join(np.array(id2w_ad_at)[t_ad_test_unpad_at[26]]), t_ad_test_at[26].reshape((1, MAX_LEN_AT)), id2w_sd_at)"
   ]
  },
  {
   "cell_type": "markdown",
   "metadata": {},
   "source": [
    "#### EXPLANATION\n",
    "- The attention summary produces repeated unk and is meaningless (bad summary). Same is the case with the non-attention summary. The attention-map correctly correlates only 'israel', but not other words. "
   ]
  },
  {
   "cell_type": "markdown",
   "metadata": {},
   "source": [
    "#### SENTENCE-13\n",
    "- I(13): share prices on the london stock exchange rose by #.# percent wednesday .\n",
    "- G: london share prices close higher\n",
    "- NA: london share prices index up points\n",
    "- A: london share prices up"
   ]
  },
  {
   "cell_type": "code",
   "execution_count": 65,
   "metadata": {
    "scrolled": false
   },
   "outputs": [
    {
     "data": {
      "text/plain": [
       "<matplotlib.figure.Figure at 0x7f1480b49ed0>"
      ]
     },
     "metadata": {},
     "output_type": "display_data"
    },
    {
     "data": {
      "image/png": "[encoded data removed]",
      "text/plain": [
       "<matplotlib.figure.Figure at 0x7f14b8517850>"
      ]
     },
     "metadata": {},
     "output_type": "display_data"
    }
   ],
   "source": [
    "viz.attention_map(' '.join(np.array(id2w_ad_at)[t_ad_test_unpad_at[49]]), t_ad_test_at[49].reshape((1, MAX_LEN_AT)), id2w_sd_at)"
   ]
  },
  {
   "cell_type": "markdown",
   "metadata": {},
   "source": [
    "#### EXPLANATION\n",
    "- The attention summary is quite accurate given the gold-standard (good summary). The non-attention summary is also good, but slightly ambiguous. The attention-map shows good correlations learnt by the model, like 'london' with 'london', 'rose' with 'up', and 'share prices' with 'share prices'. "
   ]
  },
  {
   "cell_type": "markdown",
   "metadata": {},
   "source": [
    "#### SENTENCE-14\n",
    "- I(14): former swiss president ernst brugger has died , it was announced monday .\n",
    "- G: former swiss president ernst unk dies at ##\n",
    "- NA: former czech unk unk unk dies at\n",
    "- A: former unk president president dies dies"
   ]
  },
  {
   "cell_type": "code",
   "execution_count": 66,
   "metadata": {
    "scrolled": false
   },
   "outputs": [
    {
     "data": {
      "text/plain": [
       "<matplotlib.figure.Figure at 0x7f14b841c6d0>"
      ]
     },
     "metadata": {},
     "output_type": "display_data"
    },
    {
     "data": {
      "image/png": "[encoded data removed]",
      "text/plain": [
       "<matplotlib.figure.Figure at 0x7f14b845a4d0>"
      ]
     },
     "metadata": {},
     "output_type": "display_data"
    }
   ],
   "source": [
    "viz.attention_map(' '.join(np.array(id2w_ad_at)[t_ad_test_unpad_at[102]]), t_ad_test_at[102].reshape((1, MAX_LEN_AT)), id2w_sd_at)"
   ]
  },
  {
   "cell_type": "markdown",
   "metadata": {},
   "source": [
    "#### EXPLANATION\n",
    "- The attention summary only produces slight meaning and misses key information like, which president. Whereas, the non-attention summary produces false information in terms of czech president. The attention-map has learnt some useful correlations like tense in 'died' vs 'dies', and the usual 'president' with 'president'."
   ]
  },
  {
   "cell_type": "markdown",
   "metadata": {},
   "source": [
    "#### SENTENCE-15\n",
    "- I(15): lewis hamilton took the pole again at the canadian grand prix -- barely .\n",
    "- G: lewis hamilton takes another canadian gp pole\n",
    "- NA: pole wins for at grand prix\n",
    "- A: newman fastest pole pole pole at"
   ]
  },
  {
   "cell_type": "code",
   "execution_count": 67,
   "metadata": {
    "scrolled": false
   },
   "outputs": [
    {
     "data": {
      "text/plain": [
       "<matplotlib.figure.Figure at 0x7f14b8426690>"
      ]
     },
     "metadata": {},
     "output_type": "display_data"
    },
    {
     "data": {
      "image/png": "[encoded data removed]",
      "text/plain": [
       "<matplotlib.figure.Figure at 0x7f14b83a4210>"
      ]
     },
     "metadata": {},
     "output_type": "display_data"
    }
   ],
   "source": [
    "viz.attention_map(' '.join(np.array(id2w_ad_at)[t_ad_test_unpad_at[107]]), t_ad_test_at[107].reshape((1, MAX_LEN_AT)), id2w_sd_at)"
   ]
  },
  {
   "cell_type": "markdown",
   "metadata": {},
   "source": [
    "#### EXPLANATION\n",
    "- The attention summary is completely meaningless and has repeated words (bad summary). The non-attention summary has more variety of words but is also meaningless. So, the attention-map also shows poor correlations, 'pole' correlates with all the words in the summary!"
   ]
  },
  {
   "cell_type": "markdown",
   "metadata": {},
   "source": [
    "## PROBLEMS AND SUGGESTIONS\n",
    "- The non-attention model produces summaries that have much more variety of words, but they are mostly out of place and meaningless, and usually talk about un-correlated articles. The attention model on the other hand, produces repeated words more frequently, when it is seemingly unsure of the context (maybe because of the reduced vocabulary of words to choose from), but its summaries are much more in context and replete with information. \n",
    "- The attention model summaries seem to perform extraction of verbs and pronouns from the articles, unlike the non-attention model summaries. And so some really good summaries (which summarize the article perfectly) differ from the gold-standard summaries by just those few words, thus impacting the rouge-score. \n",
    "- Seeing the rouge scores of the attention and non-attention model it is prevalent that the attention helps the model learn better and produce better summaries, inspite of using a smaller vocabulary of words.  \n",
    "#### .\n",
    "- Seemingly, a limited vocab reduces the ability of the model to produce good summaries, since it has fewer words in which it can express.\n",
    "- It is practically impossible to feed in the largest possible vocabulary and even that would not contain all the possible words in the universe.\n",
    "- One way around this is to move a different level of vocabulary creation and that is character level vocabulary. Here each character in the sentence would be encoded separately, rather than the whole word. And since 'space' character would also be encoded, it would help in separating out the words. The character level vocab is much smaller, containing only 69 possible characters that can be typed by the keyboard. Although, this would increase the length of the encoded sentence, since the vocab vector is small, the overall encoded matrix would be much smaller and possibly even reduce memory usage. \n",
    "- Character level encoding would help to preserve the sentence as is, when encoded, including all the punctuations and mis-spellings of the same word, that would have been difficult to include using word-level based vocab.\n",
    "- There could be 2 ways to train on these vectors:\n",
    "    - Use CNNs to extract 1st level of features and then an encoder-decoder architecture on top.\n",
    "    - Use encoder-decoder architecture directly. \n",
    "    - Arguably the model would have many more transitions to learn, but since the inputs are much smaller, the hidden_dimensions can be increased to accomodate those many transitions. Also, bidirectional LSTMs would really help in improving the learning of these increased transitions. And rather than using vanilla LSTMs, GRUs can be used to learn and preserve longer transitions. \n",
    "- Character level encodings have shown promising results in text classification tasks and it would be interesting to see how they perform in translation and summarization tasks.\n",
    "\n",
    "###### REFERENCES: Zhang, X. and LeCun, Y., 2015. Text understanding from scratch. arXiv preprint arXiv:1502.01710."
   ]
  },
  {
   "cell_type": "markdown",
   "metadata": {},
   "source": [
    "# Unidirectional LSTM Encoder Decoder With Attention and Beam Search (Extra Credit)"
   ]
  },
  {
   "cell_type": "markdown",
   "metadata": {},
   "source": [
    "The models that you implemented till now had greedy decoder. Now implement a Decoder with Beam Search and show improved results"
   ]
  },
  {
   "cell_type": "code",
   "execution_count": null,
   "metadata": {},
   "outputs": [],
   "source": [
    "## Beam search on the final model.predict Keras beam search"
   ]
  }
 ],
 "metadata": {
  "kernelspec": {
   "display_name": "leafsnap-env",
   "language": "python",
   "name": "leafsnap-env"
  },
  "language_info": {
   "codemirror_mode": {
    "name": "ipython",
    "version": 2
   },
   "file_extension": ".py",
   "mimetype": "text/x-python",
   "name": "python",
   "nbconvert_exporter": "python",
   "pygments_lexer": "ipython2",
   "version": "2.7.12"
  }
 },
 "nbformat": 4,
 "nbformat_minor": 2
}
